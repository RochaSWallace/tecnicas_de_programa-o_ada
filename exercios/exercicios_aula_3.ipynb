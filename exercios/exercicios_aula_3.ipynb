{
 "cells": [
  {
   "cell_type": "markdown",
   "metadata": {},
   "source": [
    "### Exercicios\n",
    "\n",
    "1. Replace all occurrences of 3 with 10, arr = np.array([1, 2, 3,3,3,3,3, 4, 5])\n",
    "2. Find common elements between the two arrays, arr1 = np.array([1, 2, 3, 4, 5]), arr2 = np.array([3, 4, 5, 6, 7])\n",
    "3. Reshape the array into a 2x4 matrix, arr = np.array([1, 2, 3, 4, 5, 6, 7, 8])\n",
    "4. Remove duplicate elements, arr = np.array([1, 2, 2, 3, 4, 4, 5, 6, 6])\n",
    "5. Split the array into three sub-arrays, arr = np.array([1, 2, 3, 4, 5, 6, 7, 8, 9, 10])\n",
    "6. Perform element-wise multiplication, arr1 = np.array([1, 2, 3, 4]), arr2 = np.array([5, 6, 7, 8])"
   ]
  },
  {
   "cell_type": "code",
   "execution_count": 1,
   "metadata": {},
   "outputs": [],
   "source": [
    "import numpy as np"
   ]
  },
  {
   "cell_type": "code",
   "execution_count": null,
   "metadata": {},
   "outputs": [],
   "source": [
    "# 1. Replace all occurrences of 3 with 10, arr = np.array([1, 2, 3,3,3,3,3, 4, 5])\n",
    "arr = np.array([1, 2, 3,3,3,3,3, 4, 5])\n",
    "arr[arr==3]=10\n",
    "#arr = np.where(arr == 3, 10, arr)\n",
    "arr"
   ]
  },
  {
   "cell_type": "code",
   "execution_count": null,
   "metadata": {},
   "outputs": [],
   "source": [
    "# 2. Find common elements between the two arrays, arr1 = np.array([1, 2, 3, 4, 5]), arr2 = np.array([3, 4, 5, 6, 7])\n",
    "arr1 = np.array([1, 2, 3, 4, 5])\n",
    "arr2 = np.array([3, 4, 5, 6, 7])\n",
    "arr_between = np.intersect1d(arr1, arr2)\n",
    "arr_between"
   ]
  },
  {
   "cell_type": "code",
   "execution_count": null,
   "metadata": {},
   "outputs": [],
   "source": [
    "# 3. Reshape the array into a 2x4 matrix, arr = np.array([1, 2, 3, 4, 5, 6, 7, 8])\n",
    "arr = np.array([1, 2, 3, 4, 5, 6, 7, 8])\n",
    "arr.reshape(2,4 )"
   ]
  },
  {
   "cell_type": "code",
   "execution_count": null,
   "metadata": {},
   "outputs": [],
   "source": [
    "# 4. Remove duplicate elements, arr = np.array([1, 2, 2, 3, 4, 4, 5, 6, 6])\n",
    "arr = np.array([1, 2, 2, 3, 4, 4, 5, 6, 6])\n",
    "np.unique(arr)"
   ]
  },
  {
   "cell_type": "code",
   "execution_count": null,
   "metadata": {},
   "outputs": [],
   "source": [
    "# 5. Split the array into three sub-arrays, arr = np.array([1, 2, 3, 4, 5, 6, 7, 8, 9, 10])\n",
    "arr = np.array([1, 2, 3, 4, 5, 6, 7, 8, 9, 10])\n",
    "np.split(arr, [3,7])"
   ]
  },
  {
   "cell_type": "code",
   "execution_count": null,
   "metadata": {},
   "outputs": [],
   "source": [
    "# 6. Perform element-wise multiplication, arr1 = np.array([1, 2, 3, 4]), arr2 = np.array([5, 6, 7, 8])\n",
    "arr1 = np.array([1, 2, 3, 4])\n",
    "arr2 = np.array([5, 6, 7, 8])\n",
    "\n",
    "np.multiply(arr1, arr2)"
   ]
  },
  {
   "cell_type": "markdown",
   "metadata": {},
   "source": [
    "**Bora praticar!**  \n",
    "  \n",
    "Transforme o csv **dados_artificiais**, que está na pasta **dados**, para um numpy array (matriz)"
   ]
  },
  {
   "cell_type": "code",
   "execution_count": null,
   "metadata": {},
   "outputs": [],
   "source": [
    "matriz = np.loadtxt('dados_artificiais.txt', skiprows=1, usecols=(1, 2, 3))\n",
    "matriz"
   ]
  },
  {
   "cell_type": "code",
   "execution_count": null,
   "metadata": {},
   "outputs": [],
   "source": [
    "vetor = np.array([round(i[1] / (i[0] ** 2), 2) for i in matriz])\n",
    "vetor.reshape(-1,1)"
   ]
  },
  {
   "cell_type": "code",
   "execution_count": null,
   "metadata": {},
   "outputs": [],
   "source": [
    "matriz_imc = np.column_stack([matriz, vetor])"
   ]
  },
  {
   "cell_type": "code",
   "execution_count": null,
   "metadata": {},
   "outputs": [],
   "source": [
    "def atribuir_categoria(imc):\n",
    "    if imc < 16.00:\n",
    "        return \"Baixo peso Grau III\"\n",
    "    elif 16.00 <= imc <= 16.99:\n",
    "        return \"Baixo peso Grau II\"\n",
    "    elif 17.00 <= imc <= 18.49:\n",
    "        return \"Baixo peso Grau I\"\n",
    "    elif 18.50 <= imc <= 24.99:\n",
    "        return \"Peso ideal\"\n",
    "    elif 25.00 <= imc <= 29.99:\n",
    "        return \"Sobrepeso\"\n",
    "    elif 30.00 <= imc <= 34.99:\n",
    "        return \"Obesidade Grau I\"\n",
    "    elif 35.00 <= imc <= 39.99:\n",
    "        return \"Obesidade Grau II\"\n",
    "    else:\n",
    "        return \"Obesidade Grau III\"\n",
    "\n",
    "\n",
    "imc_categoria = np.array(list((map(atribuir_categoria, vetor))))\n",
    "imc_categoria"
   ]
  },
  {
   "cell_type": "code",
   "execution_count": null,
   "metadata": {},
   "outputs": [],
   "source": [
    "matriz_categoria = np.column_stack([matriz_imc.astype(str), imc_categoria])\n",
    "matriz_categoria"
   ]
  },
  {
   "cell_type": "code",
   "execution_count": null,
   "metadata": {},
   "outputs": [],
   "source": [
    "colunas = np.array([\"Altura\", \"Peso\",\"Sexo\", \"IMC\",  \"Categoria\"])\n",
    "matriz_completa = np.row_stack([colunas, matriz_categoria])\n",
    "matriz_completa"
   ]
  },
  {
   "cell_type": "code",
   "execution_count": null,
   "metadata": {},
   "outputs": [],
   "source": [
    "np.savetxt(\"matriz_completa.txt\", matriz_completa, fmt='%s', delimiter=\",\")"
   ]
  }
 ],
 "metadata": {
  "kernelspec": {
   "display_name": "Python 3",
   "language": "python",
   "name": "python3"
  },
  "language_info": {
   "codemirror_mode": {
    "name": "ipython",
    "version": 3
   },
   "file_extension": ".py",
   "mimetype": "text/x-python",
   "name": "python",
   "nbconvert_exporter": "python",
   "pygments_lexer": "ipython3",
   "version": "3.11.4"
  }
 },
 "nbformat": 4,
 "nbformat_minor": 2
}
