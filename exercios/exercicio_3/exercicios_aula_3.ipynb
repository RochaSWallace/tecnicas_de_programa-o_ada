{
 "cells": [
  {
   "cell_type": "markdown",
   "metadata": {},
   "source": [
    "### Exercicios\n",
    "\n",
    "1. Replace all occurrences of 3 with 10, arr = np.array([1, 2, 3,3,3,3,3, 4, 5])\n",
    "2. Find common elements between the two arrays, arr1 = np.array([1, 2, 3, 4, 5]), arr2 = np.array([3, 4, 5, 6, 7])\n",
    "3. Reshape the array into a 2x4 matrix, arr = np.array([1, 2, 3, 4, 5, 6, 7, 8])\n",
    "4. Remove duplicate elements, arr = np.array([1, 2, 2, 3, 4, 4, 5, 6, 6])\n",
    "5. Split the array into three sub-arrays, arr = np.array([1, 2, 3, 4, 5, 6, 7, 8, 9, 10])\n",
    "6. Perform element-wise multiplication, arr1 = np.array([1, 2, 3, 4]), arr2 = np.array([5, 6, 7, 8])"
   ]
  },
  {
   "cell_type": "code",
   "execution_count": 2,
   "metadata": {},
   "outputs": [],
   "source": [
    "import numpy as np"
   ]
  },
  {
   "cell_type": "code",
   "execution_count": 3,
   "metadata": {},
   "outputs": [
    {
     "data": {
      "text/plain": [
       "array([ 1,  2, 10, 10, 10, 10, 10,  4,  5])"
      ]
     },
     "execution_count": 3,
     "metadata": {},
     "output_type": "execute_result"
    }
   ],
   "source": [
    "# 1. Replace all occurrences of 3 with 10, arr = np.array([1, 2, 3,3,3,3,3, 4, 5])\n",
    "arr = np.array([1, 2, 3,3,3,3,3, 4, 5])\n",
    "arr[arr==3]=10\n",
    "#arr = np.where(arr == 3, 10, arr)\n",
    "arr"
   ]
  },
  {
   "cell_type": "code",
   "execution_count": 4,
   "metadata": {},
   "outputs": [
    {
     "data": {
      "text/plain": [
       "array([3, 4, 5])"
      ]
     },
     "execution_count": 4,
     "metadata": {},
     "output_type": "execute_result"
    }
   ],
   "source": [
    "# 2. Find common elements between the two arrays, arr1 = np.array([1, 2, 3, 4, 5]), arr2 = np.array([3, 4, 5, 6, 7])\n",
    "arr1 = np.array([1, 2, 3, 4, 5])\n",
    "arr2 = np.array([3, 4, 5, 6, 7])\n",
    "arr_between = np.intersect1d(arr1, arr2)\n",
    "arr_between"
   ]
  },
  {
   "cell_type": "code",
   "execution_count": 5,
   "metadata": {},
   "outputs": [
    {
     "data": {
      "text/plain": [
       "array([[1, 2, 3, 4],\n",
       "       [5, 6, 7, 8]])"
      ]
     },
     "execution_count": 5,
     "metadata": {},
     "output_type": "execute_result"
    }
   ],
   "source": [
    "# 3. Reshape the array into a 2x4 matrix, arr = np.array([1, 2, 3, 4, 5, 6, 7, 8])\n",
    "arr = np.array([1, 2, 3, 4, 5, 6, 7, 8])\n",
    "arr.reshape(2,4 )"
   ]
  },
  {
   "cell_type": "code",
   "execution_count": 6,
   "metadata": {},
   "outputs": [
    {
     "data": {
      "text/plain": [
       "array([1, 2, 3, 4, 5, 6])"
      ]
     },
     "execution_count": 6,
     "metadata": {},
     "output_type": "execute_result"
    }
   ],
   "source": [
    "# 4. Remove duplicate elements, arr = np.array([1, 2, 2, 3, 4, 4, 5, 6, 6])\n",
    "arr = np.array([1, 2, 2, 3, 4, 4, 5, 6, 6])\n",
    "np.unique(arr)"
   ]
  },
  {
   "cell_type": "code",
   "execution_count": 7,
   "metadata": {},
   "outputs": [
    {
     "data": {
      "text/plain": [
       "[array([1, 2, 3]), array([4, 5, 6, 7]), array([ 8,  9, 10])]"
      ]
     },
     "execution_count": 7,
     "metadata": {},
     "output_type": "execute_result"
    }
   ],
   "source": [
    "# 5. Split the array into three sub-arrays, arr = np.array([1, 2, 3, 4, 5, 6, 7, 8, 9, 10])\n",
    "arr = np.array([1, 2, 3, 4, 5, 6, 7, 8, 9, 10])\n",
    "np.split(arr, [3,7])"
   ]
  },
  {
   "cell_type": "code",
   "execution_count": 8,
   "metadata": {},
   "outputs": [
    {
     "data": {
      "text/plain": [
       "array([ 5, 12, 21, 32])"
      ]
     },
     "execution_count": 8,
     "metadata": {},
     "output_type": "execute_result"
    }
   ],
   "source": [
    "# 6. Perform element-wise multiplication, arr1 = np.array([1, 2, 3, 4]), arr2 = np.array([5, 6, 7, 8])\n",
    "arr1 = np.array([1, 2, 3, 4])\n",
    "arr2 = np.array([5, 6, 7, 8])\n",
    "\n",
    "np.multiply(arr1, arr2)"
   ]
  },
  {
   "cell_type": "markdown",
   "metadata": {},
   "source": [
    "**Bora praticar!**  \n",
    "  \n",
    "Transforme o csv **dados_artificiais**, que está na pasta **dados**, para um numpy array (matriz)"
   ]
  },
  {
   "cell_type": "code",
   "execution_count": 9,
   "metadata": {},
   "outputs": [
    {
     "data": {
      "text/plain": [
       "array([[ 1.788811, 65.648102,  0.      ],\n",
       "       [ 1.566784, 76.642768,  0.      ],\n",
       "       [ 2.092193, 55.468185,  1.      ],\n",
       "       [ 1.782471, 67.281997,  1.      ],\n",
       "       [ 1.735767, 69.289008,  0.      ],\n",
       "       [ 1.686975, 56.840051,  0.      ],\n",
       "       [ 1.797105, 65.208973,  1.      ],\n",
       "       [ 1.187349, 48.164764,  0.      ],\n",
       "       [ 1.595891, 45.410648,  1.      ],\n",
       "       [ 1.396282, 67.930113,  0.      ],\n",
       "       [ 1.606148, 67.719604,  0.      ],\n",
       "       [ 1.70759 , 45.609333,  0.      ],\n",
       "       [ 1.735513, 64.845452,  0.      ],\n",
       "       [ 1.672055, 39.705952,  1.      ],\n",
       "       [ 1.723377, 50.05888 ,  1.      ],\n",
       "       [ 1.684574, 56.545087,  1.      ],\n",
       "       [ 1.733259, 37.512188,  0.      ],\n",
       "       [ 1.7579  , 57.362422,  0.      ],\n",
       "       [ 1.913338, 69.307246,  1.      ],\n",
       "       [ 1.456048, 69.342337,  0.      ]])"
      ]
     },
     "execution_count": 9,
     "metadata": {},
     "output_type": "execute_result"
    }
   ],
   "source": [
    "matriz = np.loadtxt('dados_artificiais.txt', skiprows=1, usecols=(1, 2, 3))\n",
    "matriz"
   ]
  },
  {
   "cell_type": "code",
   "execution_count": 10,
   "metadata": {},
   "outputs": [
    {
     "data": {
      "text/plain": [
       "array([[20.52],\n",
       "       [31.22],\n",
       "       [12.67],\n",
       "       [21.18],\n",
       "       [23.  ],\n",
       "       [19.97],\n",
       "       [20.19],\n",
       "       [34.16],\n",
       "       [17.83],\n",
       "       [34.84],\n",
       "       [26.25],\n",
       "       [15.64],\n",
       "       [21.53],\n",
       "       [14.2 ],\n",
       "       [16.85],\n",
       "       [19.93],\n",
       "       [12.49],\n",
       "       [18.56],\n",
       "       [18.93],\n",
       "       [32.71]])"
      ]
     },
     "execution_count": 10,
     "metadata": {},
     "output_type": "execute_result"
    }
   ],
   "source": [
    "vetor = np.array([round(i[1] / (i[0] ** 2), 2) for i in matriz])\n",
    "vetor.reshape(-1,1)"
   ]
  },
  {
   "cell_type": "code",
   "execution_count": 11,
   "metadata": {},
   "outputs": [],
   "source": [
    "matriz_imc = np.column_stack([matriz, vetor])"
   ]
  },
  {
   "cell_type": "code",
   "execution_count": 12,
   "metadata": {},
   "outputs": [
    {
     "data": {
      "text/plain": [
       "array(['Peso ideal', 'Obesidade Grau I', 'Baixo peso Grau III',\n",
       "       'Peso ideal', 'Peso ideal', 'Peso ideal', 'Peso ideal',\n",
       "       'Obesidade Grau I', 'Baixo peso Grau I', 'Obesidade Grau I',\n",
       "       'Sobrepeso', 'Baixo peso Grau III', 'Peso ideal',\n",
       "       'Baixo peso Grau III', 'Baixo peso Grau II', 'Peso ideal',\n",
       "       'Baixo peso Grau III', 'Peso ideal', 'Peso ideal',\n",
       "       'Obesidade Grau I'], dtype='<U19')"
      ]
     },
     "execution_count": 12,
     "metadata": {},
     "output_type": "execute_result"
    }
   ],
   "source": [
    "def atribuir_categoria(imc):\n",
    "    if imc < 16.00:\n",
    "        return \"Baixo peso Grau III\"\n",
    "    elif 16.00 <= imc <= 16.99:\n",
    "        return \"Baixo peso Grau II\"\n",
    "    elif 17.00 <= imc <= 18.49:\n",
    "        return \"Baixo peso Grau I\"\n",
    "    elif 18.50 <= imc <= 24.99:\n",
    "        return \"Peso ideal\"\n",
    "    elif 25.00 <= imc <= 29.99:\n",
    "        return \"Sobrepeso\"\n",
    "    elif 30.00 <= imc <= 34.99:\n",
    "        return \"Obesidade Grau I\"\n",
    "    elif 35.00 <= imc <= 39.99:\n",
    "        return \"Obesidade Grau II\"\n",
    "    else:\n",
    "        return \"Obesidade Grau III\"\n",
    "\n",
    "\n",
    "imc_categoria = np.array(list((map(atribuir_categoria, vetor))))\n",
    "imc_categoria"
   ]
  },
  {
   "cell_type": "code",
   "execution_count": 13,
   "metadata": {},
   "outputs": [
    {
     "data": {
      "text/plain": [
       "array([['1.788811', '65.648102', '0.0', '20.52', 'Peso ideal'],\n",
       "       ['1.566784', '76.642768', '0.0', '31.22', 'Obesidade Grau I'],\n",
       "       ['2.092193', '55.468185', '1.0', '12.67', 'Baixo peso Grau III'],\n",
       "       ['1.782471', '67.281997', '1.0', '21.18', 'Peso ideal'],\n",
       "       ['1.735767', '69.289008', '0.0', '23.0', 'Peso ideal'],\n",
       "       ['1.686975', '56.840051', '0.0', '19.97', 'Peso ideal'],\n",
       "       ['1.797105', '65.208973', '1.0', '20.19', 'Peso ideal'],\n",
       "       ['1.187349', '48.164764', '0.0', '34.16', 'Obesidade Grau I'],\n",
       "       ['1.595891', '45.410648', '1.0', '17.83', 'Baixo peso Grau I'],\n",
       "       ['1.396282', '67.930113', '0.0', '34.84', 'Obesidade Grau I'],\n",
       "       ['1.606148', '67.719604', '0.0', '26.25', 'Sobrepeso'],\n",
       "       ['1.70759', '45.609333', '0.0', '15.64', 'Baixo peso Grau III'],\n",
       "       ['1.735513', '64.845452', '0.0', '21.53', 'Peso ideal'],\n",
       "       ['1.672055', '39.705952', '1.0', '14.2', 'Baixo peso Grau III'],\n",
       "       ['1.723377', '50.05888', '1.0', '16.85', 'Baixo peso Grau II'],\n",
       "       ['1.684574', '56.545087', '1.0', '19.93', 'Peso ideal'],\n",
       "       ['1.733259', '37.512188', '0.0', '12.49', 'Baixo peso Grau III'],\n",
       "       ['1.7579', '57.362422', '0.0', '18.56', 'Peso ideal'],\n",
       "       ['1.913338', '69.307246', '1.0', '18.93', 'Peso ideal'],\n",
       "       ['1.456048', '69.342337', '0.0', '32.71', 'Obesidade Grau I']],\n",
       "      dtype='<U32')"
      ]
     },
     "execution_count": 13,
     "metadata": {},
     "output_type": "execute_result"
    }
   ],
   "source": [
    "matriz_categoria = np.column_stack([matriz_imc.astype(str), imc_categoria])\n",
    "matriz_categoria"
   ]
  },
  {
   "cell_type": "code",
   "execution_count": 14,
   "metadata": {},
   "outputs": [
    {
     "data": {
      "text/plain": [
       "array([['Altura', 'Peso', 'Sexo', 'IMC', 'Categoria'],\n",
       "       ['1.788811', '65.648102', '0.0', '20.52', 'Peso ideal'],\n",
       "       ['1.566784', '76.642768', '0.0', '31.22', 'Obesidade Grau I'],\n",
       "       ['2.092193', '55.468185', '1.0', '12.67', 'Baixo peso Grau III'],\n",
       "       ['1.782471', '67.281997', '1.0', '21.18', 'Peso ideal'],\n",
       "       ['1.735767', '69.289008', '0.0', '23.0', 'Peso ideal'],\n",
       "       ['1.686975', '56.840051', '0.0', '19.97', 'Peso ideal'],\n",
       "       ['1.797105', '65.208973', '1.0', '20.19', 'Peso ideal'],\n",
       "       ['1.187349', '48.164764', '0.0', '34.16', 'Obesidade Grau I'],\n",
       "       ['1.595891', '45.410648', '1.0', '17.83', 'Baixo peso Grau I'],\n",
       "       ['1.396282', '67.930113', '0.0', '34.84', 'Obesidade Grau I'],\n",
       "       ['1.606148', '67.719604', '0.0', '26.25', 'Sobrepeso'],\n",
       "       ['1.70759', '45.609333', '0.0', '15.64', 'Baixo peso Grau III'],\n",
       "       ['1.735513', '64.845452', '0.0', '21.53', 'Peso ideal'],\n",
       "       ['1.672055', '39.705952', '1.0', '14.2', 'Baixo peso Grau III'],\n",
       "       ['1.723377', '50.05888', '1.0', '16.85', 'Baixo peso Grau II'],\n",
       "       ['1.684574', '56.545087', '1.0', '19.93', 'Peso ideal'],\n",
       "       ['1.733259', '37.512188', '0.0', '12.49', 'Baixo peso Grau III'],\n",
       "       ['1.7579', '57.362422', '0.0', '18.56', 'Peso ideal'],\n",
       "       ['1.913338', '69.307246', '1.0', '18.93', 'Peso ideal'],\n",
       "       ['1.456048', '69.342337', '0.0', '32.71', 'Obesidade Grau I']],\n",
       "      dtype='<U32')"
      ]
     },
     "execution_count": 14,
     "metadata": {},
     "output_type": "execute_result"
    }
   ],
   "source": [
    "colunas = np.array([\"Altura\", \"Peso\",\"Sexo\", \"IMC\",  \"Categoria\"])\n",
    "matriz_completa = np.row_stack([colunas, matriz_categoria])\n",
    "matriz_completa"
   ]
  },
  {
   "cell_type": "code",
   "execution_count": 15,
   "metadata": {},
   "outputs": [],
   "source": [
    "np.savetxt(\"matriz_completa.txt\", matriz_completa, fmt='%s', delimiter=\",\")"
   ]
  },
  {
   "cell_type": "markdown",
   "metadata": {},
   "source": [
    "### ps: com a configuração 'fmt', os dados foram salvos sem as ', sendo assim no seu formato original."
   ]
  }
 ],
 "metadata": {
  "kernelspec": {
   "display_name": "Python 3",
   "language": "python",
   "name": "python3"
  },
  "language_info": {
   "codemirror_mode": {
    "name": "ipython",
    "version": 3
   },
   "file_extension": ".py",
   "mimetype": "text/x-python",
   "name": "python",
   "nbconvert_exporter": "python",
   "pygments_lexer": "ipython3",
   "version": "3.11.4"
  }
 },
 "nbformat": 4,
 "nbformat_minor": 2
}
