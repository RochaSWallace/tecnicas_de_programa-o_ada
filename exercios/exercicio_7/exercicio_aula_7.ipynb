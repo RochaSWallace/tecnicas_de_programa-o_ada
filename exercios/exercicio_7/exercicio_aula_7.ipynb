{
 "cells": [
  {
   "cell_type": "markdown",
   "metadata": {},
   "source": [
    "# Exercicio de Sala - PANDAS - Exploração e Análise de Dados - EDA"
   ]
  },
  {
   "cell_type": "markdown",
   "metadata": {},
   "source": [
    "Nesse exercicio trabalharemos com dados fictícios de investidores.\n",
    "\n",
    "São 3 arquivos que devem ser carregados para responder as perguntas abaixo.\n",
    "\n"
   ]
  },
  {
   "cell_type": "markdown",
   "metadata": {},
   "source": [
    "Informações\n",
    "\n",
    "Cadastro:\n",
    "- **id** : Identificação do investidor\n",
    "- **Nome** : Nome completo do investidor \n",
    "- **Sexo** : Feminino ou masculino\n",
    "- **Nasc** : Data de nascimento\n",
    "- **Idade** : Idade do investidor ou responsável\n",
    "- **Email** : E-mail do investidor ou responsável\n",
    "- **Lat_long** : Dados geográficos do investidor\n",
    "- **Job** : Profissão do investidor ou do seu responsável (em inglês)\n",
    "- **Estado** : Estado onde o investidor reside\n",
    "\n",
    "Investimento:\n",
    "- **id** : Identificação do investidor\n",
    "- **Salario** : Renda do investidor ou seu responsável\n",
    "- **Perfil** : Perfil de investimento\n",
    "- **Ativo01, Ativo02, Ativo03, Ativo04, Ativo05, Ativo06, Ativo07** : O quanto de dinheiro o investidor colocou em cada ativo\n",
    "- **Nota1, Nota2** : O quanto o investidor está satisfeito com nossa empresa (2 avaliações)\n",
    "\n",
    "Lembrando que esses dados são irreais e fictícios\n"
   ]
  },
  {
   "cell_type": "markdown",
   "metadata": {},
   "source": [
    "Pode ser feito o download e carregar localmente ou pode acessar os arquivos pelo link diretamente no pandas:\n",
    "    \n",
    "- https://raw.githubusercontent.com/renatapink/DSdegree/master/Modulo2/Mini_projeto1/cadastro.csv\n",
    "- https://raw.githubusercontent.com/renatapink/DSdegree/master/Modulo2/Mini_projeto1/investimento_parte1.csv\n",
    "- https://raw.githubusercontent.com/renatapink/DSdegree/master/Modulo2/Mini_projeto1/investimento_parte2.csv"
   ]
  },
  {
   "cell_type": "code",
   "execution_count": 2,
   "metadata": {},
   "outputs": [],
   "source": [
    "import pandas as pd\n",
    "import datetime as dt\n",
    "pd.options.display.max_columns = 35 #para aumentar a quantidade de colunas a serem visualizadas"
   ]
  },
  {
   "cell_type": "code",
   "execution_count": 3,
   "metadata": {},
   "outputs": [],
   "source": [
    "df_cadastro = pd.read_csv(\"cadastro.csv\")\n",
    "df_investimento_1 = pd.read_csv(\"investimento_parte1.csv\")\n",
    "df_investimento_2 = pd.read_csv(\"investimento_parte2.csv\")"
   ]
  },
  {
   "cell_type": "code",
   "execution_count": 4,
   "metadata": {},
   "outputs": [
    {
     "data": {
      "text/plain": [
       "((38754, 9), (20000, 12), (24052, 12))"
      ]
     },
     "execution_count": 4,
     "metadata": {},
     "output_type": "execute_result"
    }
   ],
   "source": [
    "df_cadastro.shape, df_investimento_1.shape, df_investimento_2.shape"
   ]
  },
  {
   "cell_type": "code",
   "execution_count": 5,
   "metadata": {},
   "outputs": [
    {
     "name": "stdout",
     "output_type": "stream",
     "text": [
      "<class 'pandas.core.frame.DataFrame'>\n",
      "RangeIndex: 20000 entries, 0 to 19999\n",
      "Data columns (total 12 columns):\n",
      " #   Column   Non-Null Count  Dtype  \n",
      "---  ------   --------------  -----  \n",
      " 0   id       20000 non-null  object \n",
      " 1   Salario  20000 non-null  object \n",
      " 2   Perfil   20000 non-null  object \n",
      " 3   Ativo01  15012 non-null  float64\n",
      " 4   Ativo02  16857 non-null  float64\n",
      " 5   Ativo03  16760 non-null  float64\n",
      " 6   Ativo04  13799 non-null  float64\n",
      " 7   Ativo05  16829 non-null  float64\n",
      " 8   Ativo06  9895 non-null   float64\n",
      " 9   Ativo07  20000 non-null  float64\n",
      " 10  Nota1    18469 non-null  float64\n",
      " 11  Nota2    18954 non-null  float64\n",
      "dtypes: float64(9), object(3)\n",
      "memory usage: 1.8+ MB\n"
     ]
    }
   ],
   "source": [
    "df_investimento_1.info()"
   ]
  },
  {
   "cell_type": "code",
   "execution_count": 6,
   "metadata": {},
   "outputs": [
    {
     "name": "stdout",
     "output_type": "stream",
     "text": [
      "<class 'pandas.core.frame.DataFrame'>\n",
      "RangeIndex: 24052 entries, 0 to 24051\n",
      "Data columns (total 12 columns):\n",
      " #   Column   Non-Null Count  Dtype  \n",
      "---  ------   --------------  -----  \n",
      " 0   id       24052 non-null  object \n",
      " 1   Salario  24052 non-null  object \n",
      " 2   Perfil   24052 non-null  object \n",
      " 3   Ativo01  17994 non-null  float64\n",
      " 4   Ativo02  20245 non-null  float64\n",
      " 5   Ativo03  20249 non-null  float64\n",
      " 6   Ativo04  16685 non-null  float64\n",
      " 7   Ativo05  20211 non-null  float64\n",
      " 8   Ativo06  11932 non-null  float64\n",
      " 9   Ativo07  24052 non-null  float64\n",
      " 10  Nota1    22172 non-null  float64\n",
      " 11  Nota2    22810 non-null  float64\n",
      "dtypes: float64(9), object(3)\n",
      "memory usage: 2.2+ MB\n"
     ]
    }
   ],
   "source": [
    "df_investimento_2.info()"
   ]
  },
  {
   "cell_type": "code",
   "execution_count": 7,
   "metadata": {},
   "outputs": [
    {
     "name": "stdout",
     "output_type": "stream",
     "text": [
      "<class 'pandas.core.frame.DataFrame'>\n",
      "RangeIndex: 38754 entries, 0 to 38753\n",
      "Data columns (total 9 columns):\n",
      " #   Column    Non-Null Count  Dtype \n",
      "---  ------    --------------  ----- \n",
      " 0   id        38754 non-null  object\n",
      " 1   Nome      38754 non-null  object\n",
      " 2   Sexo      38754 non-null  object\n",
      " 3   Nasc      38754 non-null  object\n",
      " 4   Idade     38754 non-null  int64 \n",
      " 5   Email     38754 non-null  object\n",
      " 6   Lat_long  38754 non-null  object\n",
      " 7   Job       38754 non-null  object\n",
      " 8   Estado    38754 non-null  object\n",
      "dtypes: int64(1), object(8)\n",
      "memory usage: 2.7+ MB\n"
     ]
    }
   ],
   "source": [
    "df_cadastro.info()"
   ]
  },
  {
   "cell_type": "markdown",
   "metadata": {},
   "source": [
    "## 2 - Juntar os dataframes de investimento1 e investimento2 em um só e ver a quantidade de linhas"
   ]
  },
  {
   "cell_type": "markdown",
   "metadata": {},
   "source": [
    "Criar um novo dataframe  \n",
    "Dica: https://pandas.pydata.org/pandas-docs/stable/user_guide/merging.html"
   ]
  },
  {
   "cell_type": "code",
   "execution_count": 8,
   "metadata": {},
   "outputs": [],
   "source": [
    "df_investimento = pd.concat([df_investimento_1, df_investimento_2], ignore_index=True)"
   ]
  },
  {
   "cell_type": "code",
   "execution_count": 9,
   "metadata": {},
   "outputs": [
    {
     "data": {
      "text/plain": [
       "(44052, 12)"
      ]
     },
     "execution_count": 9,
     "metadata": {},
     "output_type": "execute_result"
    }
   ],
   "source": [
    "df_investimento.shape"
   ]
  },
  {
   "cell_type": "markdown",
   "metadata": {},
   "source": [
    "## 3 - Crie um novo dataframe eliminando as linhas duplicadas do item anterior"
   ]
  },
  {
   "cell_type": "code",
   "execution_count": 10,
   "metadata": {},
   "outputs": [],
   "source": [
    "df_investimento = df_investimento.drop_duplicates()"
   ]
  },
  {
   "cell_type": "code",
   "execution_count": 11,
   "metadata": {},
   "outputs": [
    {
     "data": {
      "text/plain": [
       "(38754, 12)"
      ]
     },
     "execution_count": 11,
     "metadata": {},
     "output_type": "execute_result"
    }
   ],
   "source": [
    "df_investimento.shape"
   ]
  },
  {
   "cell_type": "markdown",
   "metadata": {},
   "source": [
    "## 4 - Junte o dataframe de investimento com o de cadastro, criando um novo dataframe\n",
    "Dica: use a coluna id como chave para juntar os dois dataframes"
   ]
  },
  {
   "cell_type": "code",
   "execution_count": 13,
   "metadata": {},
   "outputs": [],
   "source": [
    "df_cadastro_investimento = pd.merge(df_cadastro, df_investimento, on='id', how='outer')\n"
   ]
  },
  {
   "cell_type": "code",
   "execution_count": 14,
   "metadata": {},
   "outputs": [
    {
     "data": {
      "text/html": [
       "<div>\n",
       "<style scoped>\n",
       "    .dataframe tbody tr th:only-of-type {\n",
       "        vertical-align: middle;\n",
       "    }\n",
       "\n",
       "    .dataframe tbody tr th {\n",
       "        vertical-align: top;\n",
       "    }\n",
       "\n",
       "    .dataframe thead th {\n",
       "        text-align: right;\n",
       "    }\n",
       "</style>\n",
       "<table border=\"1\" class=\"dataframe\">\n",
       "  <thead>\n",
       "    <tr style=\"text-align: right;\">\n",
       "      <th></th>\n",
       "      <th>id</th>\n",
       "      <th>Nome</th>\n",
       "      <th>Sexo</th>\n",
       "      <th>Nasc</th>\n",
       "      <th>Idade</th>\n",
       "      <th>Email</th>\n",
       "      <th>Lat_long</th>\n",
       "      <th>Job</th>\n",
       "      <th>Estado</th>\n",
       "      <th>Salario</th>\n",
       "      <th>Perfil</th>\n",
       "      <th>Ativo01</th>\n",
       "      <th>Ativo02</th>\n",
       "      <th>Ativo03</th>\n",
       "      <th>Ativo04</th>\n",
       "      <th>Ativo05</th>\n",
       "      <th>Ativo06</th>\n",
       "      <th>Ativo07</th>\n",
       "      <th>Nota1</th>\n",
       "      <th>Nota2</th>\n",
       "    </tr>\n",
       "  </thead>\n",
       "  <tbody>\n",
       "    <tr>\n",
       "      <th>0</th>\n",
       "      <td>id0000001</td>\n",
       "      <td>Eunice Hellen do Vale</td>\n",
       "      <td>Fem</td>\n",
       "      <td>1970-11-12</td>\n",
       "      <td>51</td>\n",
       "      <td>djones@yahoo.com</td>\n",
       "      <td>(Decimal('24.7024355'), Decimal('-28.038258'))</td>\n",
       "      <td>Technical author</td>\n",
       "      <td>TO</td>\n",
       "      <td>$63.67</td>\n",
       "      <td>Moderado</td>\n",
       "      <td>1174.27</td>\n",
       "      <td>4980.98</td>\n",
       "      <td>2638.24</td>\n",
       "      <td>NaN</td>\n",
       "      <td>4480.91</td>\n",
       "      <td>2329.72</td>\n",
       "      <td>480.72</td>\n",
       "      <td>79.600372</td>\n",
       "      <td>9.802620</td>\n",
       "    </tr>\n",
       "    <tr>\n",
       "      <th>1</th>\n",
       "      <td>id0000002</td>\n",
       "      <td>Sebastião Castelo Branco Júnior</td>\n",
       "      <td>Masc</td>\n",
       "      <td>2019-12-10</td>\n",
       "      <td>2</td>\n",
       "      <td>barnesandrea@yahoo.com</td>\n",
       "      <td>(Decimal('21.8589875'), Decimal('122.830566'))</td>\n",
       "      <td>Biochemist, clinical</td>\n",
       "      <td>DF</td>\n",
       "      <td>$21.96</td>\n",
       "      <td>Moderado</td>\n",
       "      <td>842.12</td>\n",
       "      <td>5646.09</td>\n",
       "      <td>3336.07</td>\n",
       "      <td>NaN</td>\n",
       "      <td>5624.22</td>\n",
       "      <td>2669.98</td>\n",
       "      <td>504.17</td>\n",
       "      <td>44.406893</td>\n",
       "      <td>90.512871</td>\n",
       "    </tr>\n",
       "    <tr>\n",
       "      <th>2</th>\n",
       "      <td>id0000003</td>\n",
       "      <td>Romildo Fábio de Carvalho</td>\n",
       "      <td>Masc</td>\n",
       "      <td>2015-12-28</td>\n",
       "      <td>6</td>\n",
       "      <td>walkermichael@yahoo.com</td>\n",
       "      <td>(Decimal('-28.2161525'), Decimal('97.140529'))</td>\n",
       "      <td>Development worker, international aid</td>\n",
       "      <td>DF</td>\n",
       "      <td>$62497.64</td>\n",
       "      <td>Agressivo</td>\n",
       "      <td>818.81</td>\n",
       "      <td>5516.52</td>\n",
       "      <td>3396.64</td>\n",
       "      <td>NaN</td>\n",
       "      <td>5033.83</td>\n",
       "      <td>2229.45</td>\n",
       "      <td>523.12</td>\n",
       "      <td>44.020024</td>\n",
       "      <td>65.060941</td>\n",
       "    </tr>\n",
       "    <tr>\n",
       "      <th>3</th>\n",
       "      <td>id0000004</td>\n",
       "      <td>Lana Albina de Lemos Mumy</td>\n",
       "      <td>Fem</td>\n",
       "      <td>1993-05-03</td>\n",
       "      <td>28</td>\n",
       "      <td>cobbangela@hotmail.com</td>\n",
       "      <td>(Decimal('-40.8557635'), Decimal('-2.936099'))</td>\n",
       "      <td>Estate manager/land agent</td>\n",
       "      <td>DF</td>\n",
       "      <td>$99878.74</td>\n",
       "      <td>Agressivo</td>\n",
       "      <td>NaN</td>\n",
       "      <td>5258.69</td>\n",
       "      <td>3723.10</td>\n",
       "      <td>NaN</td>\n",
       "      <td>5933.91</td>\n",
       "      <td>NaN</td>\n",
       "      <td>486.05</td>\n",
       "      <td>25.597924</td>\n",
       "      <td>86.548918</td>\n",
       "    </tr>\n",
       "    <tr>\n",
       "      <th>4</th>\n",
       "      <td>id0000005</td>\n",
       "      <td>Rose Elisângela Vyrnium de Moura</td>\n",
       "      <td>Fem</td>\n",
       "      <td>1984-06-10</td>\n",
       "      <td>37</td>\n",
       "      <td>crawfordcraig@yahoo.com</td>\n",
       "      <td>(Decimal('-20.2620885'), Decimal('104.349223'))</td>\n",
       "      <td>Chartered public finance accountant</td>\n",
       "      <td>MS</td>\n",
       "      <td>$188.01</td>\n",
       "      <td>Conservador</td>\n",
       "      <td>1505.16</td>\n",
       "      <td>6415.30</td>\n",
       "      <td>3462.67</td>\n",
       "      <td>30841.35</td>\n",
       "      <td>6044.86</td>\n",
       "      <td>2198.89</td>\n",
       "      <td>512.98</td>\n",
       "      <td>14.463307</td>\n",
       "      <td>33.566292</td>\n",
       "    </tr>\n",
       "  </tbody>\n",
       "</table>\n",
       "</div>"
      ],
      "text/plain": [
       "          id                              Nome  Sexo        Nasc  Idade  \\\n",
       "0  id0000001             Eunice Hellen do Vale   Fem  1970-11-12     51   \n",
       "1  id0000002   Sebastião Castelo Branco Júnior  Masc  2019-12-10      2   \n",
       "2  id0000003         Romildo Fábio de Carvalho  Masc  2015-12-28      6   \n",
       "3  id0000004         Lana Albina de Lemos Mumy   Fem  1993-05-03     28   \n",
       "4  id0000005  Rose Elisângela Vyrnium de Moura   Fem  1984-06-10     37   \n",
       "\n",
       "                     Email                                         Lat_long  \\\n",
       "0         djones@yahoo.com   (Decimal('24.7024355'), Decimal('-28.038258'))   \n",
       "1   barnesandrea@yahoo.com   (Decimal('21.8589875'), Decimal('122.830566'))   \n",
       "2  walkermichael@yahoo.com   (Decimal('-28.2161525'), Decimal('97.140529'))   \n",
       "3   cobbangela@hotmail.com   (Decimal('-40.8557635'), Decimal('-2.936099'))   \n",
       "4  crawfordcraig@yahoo.com  (Decimal('-20.2620885'), Decimal('104.349223'))   \n",
       "\n",
       "                                     Job Estado    Salario       Perfil  \\\n",
       "0                       Technical author     TO     $63.67     Moderado   \n",
       "1                   Biochemist, clinical     DF     $21.96     Moderado   \n",
       "2  Development worker, international aid     DF  $62497.64    Agressivo   \n",
       "3              Estate manager/land agent     DF  $99878.74    Agressivo   \n",
       "4    Chartered public finance accountant     MS    $188.01  Conservador   \n",
       "\n",
       "   Ativo01  Ativo02  Ativo03   Ativo04  Ativo05  Ativo06  Ativo07      Nota1  \\\n",
       "0  1174.27  4980.98  2638.24       NaN  4480.91  2329.72   480.72  79.600372   \n",
       "1   842.12  5646.09  3336.07       NaN  5624.22  2669.98   504.17  44.406893   \n",
       "2   818.81  5516.52  3396.64       NaN  5033.83  2229.45   523.12  44.020024   \n",
       "3      NaN  5258.69  3723.10       NaN  5933.91      NaN   486.05  25.597924   \n",
       "4  1505.16  6415.30  3462.67  30841.35  6044.86  2198.89   512.98  14.463307   \n",
       "\n",
       "       Nota2  \n",
       "0   9.802620  \n",
       "1  90.512871  \n",
       "2  65.060941  \n",
       "3  86.548918  \n",
       "4  33.566292  "
      ]
     },
     "execution_count": 14,
     "metadata": {},
     "output_type": "execute_result"
    }
   ],
   "source": [
    "df_cadastro_investimento.head()"
   ]
  },
  {
   "cell_type": "markdown",
   "metadata": {},
   "source": [
    "## 5 - Ordene o dataframe pelo id, de forma crescente e redefina o índice"
   ]
  },
  {
   "cell_type": "code",
   "execution_count": 15,
   "metadata": {},
   "outputs": [
    {
     "data": {
      "text/html": [
       "<div>\n",
       "<style scoped>\n",
       "    .dataframe tbody tr th:only-of-type {\n",
       "        vertical-align: middle;\n",
       "    }\n",
       "\n",
       "    .dataframe tbody tr th {\n",
       "        vertical-align: top;\n",
       "    }\n",
       "\n",
       "    .dataframe thead th {\n",
       "        text-align: right;\n",
       "    }\n",
       "</style>\n",
       "<table border=\"1\" class=\"dataframe\">\n",
       "  <thead>\n",
       "    <tr style=\"text-align: right;\">\n",
       "      <th></th>\n",
       "      <th>Nome</th>\n",
       "      <th>Sexo</th>\n",
       "      <th>Nasc</th>\n",
       "      <th>Idade</th>\n",
       "      <th>Email</th>\n",
       "      <th>Lat_long</th>\n",
       "      <th>Job</th>\n",
       "      <th>Estado</th>\n",
       "      <th>Salario</th>\n",
       "      <th>Perfil</th>\n",
       "      <th>Ativo01</th>\n",
       "      <th>Ativo02</th>\n",
       "      <th>Ativo03</th>\n",
       "      <th>Ativo04</th>\n",
       "      <th>Ativo05</th>\n",
       "      <th>Ativo06</th>\n",
       "      <th>Ativo07</th>\n",
       "      <th>Nota1</th>\n",
       "      <th>Nota2</th>\n",
       "    </tr>\n",
       "    <tr>\n",
       "      <th>id</th>\n",
       "      <th></th>\n",
       "      <th></th>\n",
       "      <th></th>\n",
       "      <th></th>\n",
       "      <th></th>\n",
       "      <th></th>\n",
       "      <th></th>\n",
       "      <th></th>\n",
       "      <th></th>\n",
       "      <th></th>\n",
       "      <th></th>\n",
       "      <th></th>\n",
       "      <th></th>\n",
       "      <th></th>\n",
       "      <th></th>\n",
       "      <th></th>\n",
       "      <th></th>\n",
       "      <th></th>\n",
       "      <th></th>\n",
       "    </tr>\n",
       "  </thead>\n",
       "  <tbody>\n",
       "    <tr>\n",
       "      <th>id0000001</th>\n",
       "      <td>Eunice Hellen do Vale</td>\n",
       "      <td>Fem</td>\n",
       "      <td>1970-11-12</td>\n",
       "      <td>51</td>\n",
       "      <td>djones@yahoo.com</td>\n",
       "      <td>(Decimal('24.7024355'), Decimal('-28.038258'))</td>\n",
       "      <td>Technical author</td>\n",
       "      <td>TO</td>\n",
       "      <td>$63.67</td>\n",
       "      <td>Moderado</td>\n",
       "      <td>1174.27</td>\n",
       "      <td>4980.98</td>\n",
       "      <td>2638.24</td>\n",
       "      <td>NaN</td>\n",
       "      <td>4480.91</td>\n",
       "      <td>2329.72</td>\n",
       "      <td>480.72</td>\n",
       "      <td>79.600372</td>\n",
       "      <td>9.802620</td>\n",
       "    </tr>\n",
       "    <tr>\n",
       "      <th>id0000002</th>\n",
       "      <td>Sebastião Castelo Branco Júnior</td>\n",
       "      <td>Masc</td>\n",
       "      <td>2019-12-10</td>\n",
       "      <td>2</td>\n",
       "      <td>barnesandrea@yahoo.com</td>\n",
       "      <td>(Decimal('21.8589875'), Decimal('122.830566'))</td>\n",
       "      <td>Biochemist, clinical</td>\n",
       "      <td>DF</td>\n",
       "      <td>$21.96</td>\n",
       "      <td>Moderado</td>\n",
       "      <td>842.12</td>\n",
       "      <td>5646.09</td>\n",
       "      <td>3336.07</td>\n",
       "      <td>NaN</td>\n",
       "      <td>5624.22</td>\n",
       "      <td>2669.98</td>\n",
       "      <td>504.17</td>\n",
       "      <td>44.406893</td>\n",
       "      <td>90.512871</td>\n",
       "    </tr>\n",
       "    <tr>\n",
       "      <th>id0000003</th>\n",
       "      <td>Romildo Fábio de Carvalho</td>\n",
       "      <td>Masc</td>\n",
       "      <td>2015-12-28</td>\n",
       "      <td>6</td>\n",
       "      <td>walkermichael@yahoo.com</td>\n",
       "      <td>(Decimal('-28.2161525'), Decimal('97.140529'))</td>\n",
       "      <td>Development worker, international aid</td>\n",
       "      <td>DF</td>\n",
       "      <td>$62497.64</td>\n",
       "      <td>Agressivo</td>\n",
       "      <td>818.81</td>\n",
       "      <td>5516.52</td>\n",
       "      <td>3396.64</td>\n",
       "      <td>NaN</td>\n",
       "      <td>5033.83</td>\n",
       "      <td>2229.45</td>\n",
       "      <td>523.12</td>\n",
       "      <td>44.020024</td>\n",
       "      <td>65.060941</td>\n",
       "    </tr>\n",
       "    <tr>\n",
       "      <th>id0000004</th>\n",
       "      <td>Lana Albina de Lemos Mumy</td>\n",
       "      <td>Fem</td>\n",
       "      <td>1993-05-03</td>\n",
       "      <td>28</td>\n",
       "      <td>cobbangela@hotmail.com</td>\n",
       "      <td>(Decimal('-40.8557635'), Decimal('-2.936099'))</td>\n",
       "      <td>Estate manager/land agent</td>\n",
       "      <td>DF</td>\n",
       "      <td>$99878.74</td>\n",
       "      <td>Agressivo</td>\n",
       "      <td>NaN</td>\n",
       "      <td>5258.69</td>\n",
       "      <td>3723.10</td>\n",
       "      <td>NaN</td>\n",
       "      <td>5933.91</td>\n",
       "      <td>NaN</td>\n",
       "      <td>486.05</td>\n",
       "      <td>25.597924</td>\n",
       "      <td>86.548918</td>\n",
       "    </tr>\n",
       "    <tr>\n",
       "      <th>id0000005</th>\n",
       "      <td>Rose Elisângela Vyrnium de Moura</td>\n",
       "      <td>Fem</td>\n",
       "      <td>1984-06-10</td>\n",
       "      <td>37</td>\n",
       "      <td>crawfordcraig@yahoo.com</td>\n",
       "      <td>(Decimal('-20.2620885'), Decimal('104.349223'))</td>\n",
       "      <td>Chartered public finance accountant</td>\n",
       "      <td>MS</td>\n",
       "      <td>$188.01</td>\n",
       "      <td>Conservador</td>\n",
       "      <td>1505.16</td>\n",
       "      <td>6415.30</td>\n",
       "      <td>3462.67</td>\n",
       "      <td>30841.35</td>\n",
       "      <td>6044.86</td>\n",
       "      <td>2198.89</td>\n",
       "      <td>512.98</td>\n",
       "      <td>14.463307</td>\n",
       "      <td>33.566292</td>\n",
       "    </tr>\n",
       "  </tbody>\n",
       "</table>\n",
       "</div>"
      ],
      "text/plain": [
       "                                       Nome  Sexo        Nasc  Idade  \\\n",
       "id                                                                     \n",
       "id0000001             Eunice Hellen do Vale   Fem  1970-11-12     51   \n",
       "id0000002   Sebastião Castelo Branco Júnior  Masc  2019-12-10      2   \n",
       "id0000003         Romildo Fábio de Carvalho  Masc  2015-12-28      6   \n",
       "id0000004         Lana Albina de Lemos Mumy   Fem  1993-05-03     28   \n",
       "id0000005  Rose Elisângela Vyrnium de Moura   Fem  1984-06-10     37   \n",
       "\n",
       "                             Email  \\\n",
       "id                                   \n",
       "id0000001         djones@yahoo.com   \n",
       "id0000002   barnesandrea@yahoo.com   \n",
       "id0000003  walkermichael@yahoo.com   \n",
       "id0000004   cobbangela@hotmail.com   \n",
       "id0000005  crawfordcraig@yahoo.com   \n",
       "\n",
       "                                                  Lat_long  \\\n",
       "id                                                           \n",
       "id0000001   (Decimal('24.7024355'), Decimal('-28.038258'))   \n",
       "id0000002   (Decimal('21.8589875'), Decimal('122.830566'))   \n",
       "id0000003   (Decimal('-28.2161525'), Decimal('97.140529'))   \n",
       "id0000004   (Decimal('-40.8557635'), Decimal('-2.936099'))   \n",
       "id0000005  (Decimal('-20.2620885'), Decimal('104.349223'))   \n",
       "\n",
       "                                             Job Estado    Salario  \\\n",
       "id                                                                   \n",
       "id0000001                       Technical author     TO     $63.67   \n",
       "id0000002                   Biochemist, clinical     DF     $21.96   \n",
       "id0000003  Development worker, international aid     DF  $62497.64   \n",
       "id0000004              Estate manager/land agent     DF  $99878.74   \n",
       "id0000005    Chartered public finance accountant     MS    $188.01   \n",
       "\n",
       "                Perfil  Ativo01  Ativo02  Ativo03   Ativo04  Ativo05  Ativo06  \\\n",
       "id                                                                              \n",
       "id0000001     Moderado  1174.27  4980.98  2638.24       NaN  4480.91  2329.72   \n",
       "id0000002     Moderado   842.12  5646.09  3336.07       NaN  5624.22  2669.98   \n",
       "id0000003    Agressivo   818.81  5516.52  3396.64       NaN  5033.83  2229.45   \n",
       "id0000004    Agressivo      NaN  5258.69  3723.10       NaN  5933.91      NaN   \n",
       "id0000005  Conservador  1505.16  6415.30  3462.67  30841.35  6044.86  2198.89   \n",
       "\n",
       "           Ativo07      Nota1      Nota2  \n",
       "id                                        \n",
       "id0000001   480.72  79.600372   9.802620  \n",
       "id0000002   504.17  44.406893  90.512871  \n",
       "id0000003   523.12  44.020024  65.060941  \n",
       "id0000004   486.05  25.597924  86.548918  \n",
       "id0000005   512.98  14.463307  33.566292  "
      ]
     },
     "execution_count": 15,
     "metadata": {},
     "output_type": "execute_result"
    }
   ],
   "source": [
    "df_cadastro_investimento = df_cadastro_investimento.sort_values(\"id\")\n",
    "df_cadastro_investimento.set_index(\"id\", inplace=True)\n",
    "df_cadastro_investimento.head()"
   ]
  },
  {
   "cell_type": "markdown",
   "metadata": {},
   "source": [
    "## 6 - Faça uma análise dos dados faltantes e trate-os\n",
    "\n",
    "Mostre todas as colunas com dados faltantes, sua quantidade/porcentagem e como tratar (preencher) cada uma delas explicando sua estratégia"
   ]
  },
  {
   "cell_type": "code",
   "execution_count": 16,
   "metadata": {},
   "outputs": [
    {
     "data": {
      "text/plain": [
       "Nome         0.000000\n",
       "Sexo         0.000000\n",
       "Nasc         0.000000\n",
       "Idade        0.000000\n",
       "Email        0.000000\n",
       "Lat_long     0.000000\n",
       "Job          0.000000\n",
       "Estado       0.000000\n",
       "Salario      0.000000\n",
       "Perfil       0.000000\n",
       "Ativo01     25.091603\n",
       "Ativo02     15.740311\n",
       "Ativo03     15.918357\n",
       "Ativo04     30.672963\n",
       "Ativo05     15.975125\n",
       "Ativo06     50.353512\n",
       "Ativo07      0.000000\n",
       "Nota1        7.741136\n",
       "Nota2        5.160758\n",
       "dtype: float64"
      ]
     },
     "execution_count": 16,
     "metadata": {},
     "output_type": "execute_result"
    }
   ],
   "source": [
    "((df_cadastro_investimento.isna().sum() / len(df_cadastro_investimento)) * 100)"
   ]
  },
  {
   "cell_type": "code",
   "execution_count": null,
   "metadata": {},
   "outputs": [],
   "source": []
  },
  {
   "cell_type": "markdown",
   "metadata": {},
   "source": [
    "## 7 - Manipule os dados a seguir:\n",
    "- Criar coluna \"Total\" somando o valor de todos os ativos por investidor\n",
    "- Criar coluna \"Media\" com a média das notas 1 e 2\n",
    "- Criar coluna \"Dominio\" com apenas o domínio do email (dica: separar por @)\n",
    "- Mudar o nome da coluna \"Salário\" para \"Renda\" e tratar a coluna (sem caracter $ e tipo numérica)\n",
    "- Mudar os dados da coluna \"Sexo\" para Masculino e Feminino (tente usar a função map)\n",
    "- Transformar os dados da coluna Media em inteiro\n",
    "- Criar coluna \"NPS\" onde o investidor é classificado como promotor se a média das notas é maior ou igual a 80, como neutro se a média estiver entre 50 e 80, e como detrator se for abaixo de 50\n"
   ]
  },
  {
   "cell_type": "code",
   "execution_count": 17,
   "metadata": {},
   "outputs": [],
   "source": [
    "df_cadastro_investimento[\"total\"] = df_cadastro_investimento[[\"Ativo01\", \"Ativo02\", \"Ativo03\", \"Ativo04\", \"Ativo05\", \"Ativo06\", \"Ativo07\"]].sum(axis=1)"
   ]
  },
  {
   "cell_type": "code",
   "execution_count": 18,
   "metadata": {},
   "outputs": [],
   "source": [
    "df_cadastro_investimento[\"Media\"] = df_cadastro_investimento[[\"Nota1\", \"Nota2\"]].mean(axis=1)"
   ]
  },
  {
   "cell_type": "code",
   "execution_count": 19,
   "metadata": {},
   "outputs": [],
   "source": [
    "df_cadastro_investimento[\"Dominio\"] = df_cadastro_investimento[\"Email\"].str.split(\"@\").str[1]"
   ]
  },
  {
   "cell_type": "code",
   "execution_count": 20,
   "metadata": {},
   "outputs": [],
   "source": [
    "df_cadastro_investimento.rename(columns={\"Salario\":\"Renda\"}, inplace=True)\n",
    "df_cadastro_investimento[\"Renda\"] = df_cadastro_investimento[\"Renda\"].str.replace(\"$\", \"\").astype(float)"
   ]
  },
  {
   "cell_type": "code",
   "execution_count": 21,
   "metadata": {},
   "outputs": [],
   "source": [
    "df_cadastro_investimento[\"Sexo\"] = df_cadastro_investimento[\"Sexo\"].apply(lambda x: \"Masculino\" if x==\"Masc\" else \"Feminino\")"
   ]
  },
  {
   "cell_type": "code",
   "execution_count": null,
   "metadata": {},
   "outputs": [],
   "source": [
    "df_cadastro_investimento[\"Media\"] = df_cadastro_investimento[\"Media\"].astype(int)"
   ]
  },
  {
   "cell_type": "code",
   "execution_count": 22,
   "metadata": {},
   "outputs": [],
   "source": [
    "df_cadastro_investimento[\"NPS\"] = df_cadastro_investimento[\"Media\"].apply(lambda nota: \"promotor\" if nota >= 80 else (\"neutro\" if 50 < nota < 80 else \"detrator\"))"
   ]
  },
  {
   "cell_type": "code",
   "execution_count": 23,
   "metadata": {},
   "outputs": [
    {
     "data": {
      "text/html": [
       "<div>\n",
       "<style scoped>\n",
       "    .dataframe tbody tr th:only-of-type {\n",
       "        vertical-align: middle;\n",
       "    }\n",
       "\n",
       "    .dataframe tbody tr th {\n",
       "        vertical-align: top;\n",
       "    }\n",
       "\n",
       "    .dataframe thead th {\n",
       "        text-align: right;\n",
       "    }\n",
       "</style>\n",
       "<table border=\"1\" class=\"dataframe\">\n",
       "  <thead>\n",
       "    <tr style=\"text-align: right;\">\n",
       "      <th></th>\n",
       "      <th>Nome</th>\n",
       "      <th>Sexo</th>\n",
       "      <th>Nasc</th>\n",
       "      <th>Idade</th>\n",
       "      <th>Email</th>\n",
       "      <th>Lat_long</th>\n",
       "      <th>Job</th>\n",
       "      <th>Estado</th>\n",
       "      <th>Renda</th>\n",
       "      <th>Perfil</th>\n",
       "      <th>Ativo01</th>\n",
       "      <th>Ativo02</th>\n",
       "      <th>Ativo03</th>\n",
       "      <th>Ativo04</th>\n",
       "      <th>Ativo05</th>\n",
       "      <th>Ativo06</th>\n",
       "      <th>Ativo07</th>\n",
       "      <th>Nota1</th>\n",
       "      <th>Nota2</th>\n",
       "      <th>total</th>\n",
       "      <th>Media</th>\n",
       "      <th>Dominio</th>\n",
       "      <th>NPS</th>\n",
       "    </tr>\n",
       "    <tr>\n",
       "      <th>id</th>\n",
       "      <th></th>\n",
       "      <th></th>\n",
       "      <th></th>\n",
       "      <th></th>\n",
       "      <th></th>\n",
       "      <th></th>\n",
       "      <th></th>\n",
       "      <th></th>\n",
       "      <th></th>\n",
       "      <th></th>\n",
       "      <th></th>\n",
       "      <th></th>\n",
       "      <th></th>\n",
       "      <th></th>\n",
       "      <th></th>\n",
       "      <th></th>\n",
       "      <th></th>\n",
       "      <th></th>\n",
       "      <th></th>\n",
       "      <th></th>\n",
       "      <th></th>\n",
       "      <th></th>\n",
       "      <th></th>\n",
       "    </tr>\n",
       "  </thead>\n",
       "  <tbody>\n",
       "    <tr>\n",
       "      <th>id0000001</th>\n",
       "      <td>Eunice Hellen do Vale</td>\n",
       "      <td>Feminino</td>\n",
       "      <td>1970-11-12</td>\n",
       "      <td>51</td>\n",
       "      <td>djones@yahoo.com</td>\n",
       "      <td>(Decimal('24.7024355'), Decimal('-28.038258'))</td>\n",
       "      <td>Technical author</td>\n",
       "      <td>TO</td>\n",
       "      <td>63.67</td>\n",
       "      <td>Moderado</td>\n",
       "      <td>1174.27</td>\n",
       "      <td>4980.98</td>\n",
       "      <td>2638.24</td>\n",
       "      <td>NaN</td>\n",
       "      <td>4480.91</td>\n",
       "      <td>2329.72</td>\n",
       "      <td>480.72</td>\n",
       "      <td>79.600372</td>\n",
       "      <td>9.802620</td>\n",
       "      <td>16084.84</td>\n",
       "      <td>44.701496</td>\n",
       "      <td>yahoo.com</td>\n",
       "      <td>detrator</td>\n",
       "    </tr>\n",
       "    <tr>\n",
       "      <th>id0000002</th>\n",
       "      <td>Sebastião Castelo Branco Júnior</td>\n",
       "      <td>Masculino</td>\n",
       "      <td>2019-12-10</td>\n",
       "      <td>2</td>\n",
       "      <td>barnesandrea@yahoo.com</td>\n",
       "      <td>(Decimal('21.8589875'), Decimal('122.830566'))</td>\n",
       "      <td>Biochemist, clinical</td>\n",
       "      <td>DF</td>\n",
       "      <td>21.96</td>\n",
       "      <td>Moderado</td>\n",
       "      <td>842.12</td>\n",
       "      <td>5646.09</td>\n",
       "      <td>3336.07</td>\n",
       "      <td>NaN</td>\n",
       "      <td>5624.22</td>\n",
       "      <td>2669.98</td>\n",
       "      <td>504.17</td>\n",
       "      <td>44.406893</td>\n",
       "      <td>90.512871</td>\n",
       "      <td>18622.65</td>\n",
       "      <td>67.459882</td>\n",
       "      <td>yahoo.com</td>\n",
       "      <td>neutro</td>\n",
       "    </tr>\n",
       "    <tr>\n",
       "      <th>id0000003</th>\n",
       "      <td>Romildo Fábio de Carvalho</td>\n",
       "      <td>Masculino</td>\n",
       "      <td>2015-12-28</td>\n",
       "      <td>6</td>\n",
       "      <td>walkermichael@yahoo.com</td>\n",
       "      <td>(Decimal('-28.2161525'), Decimal('97.140529'))</td>\n",
       "      <td>Development worker, international aid</td>\n",
       "      <td>DF</td>\n",
       "      <td>62497.64</td>\n",
       "      <td>Agressivo</td>\n",
       "      <td>818.81</td>\n",
       "      <td>5516.52</td>\n",
       "      <td>3396.64</td>\n",
       "      <td>NaN</td>\n",
       "      <td>5033.83</td>\n",
       "      <td>2229.45</td>\n",
       "      <td>523.12</td>\n",
       "      <td>44.020024</td>\n",
       "      <td>65.060941</td>\n",
       "      <td>17518.37</td>\n",
       "      <td>54.540483</td>\n",
       "      <td>yahoo.com</td>\n",
       "      <td>neutro</td>\n",
       "    </tr>\n",
       "    <tr>\n",
       "      <th>id0000004</th>\n",
       "      <td>Lana Albina de Lemos Mumy</td>\n",
       "      <td>Feminino</td>\n",
       "      <td>1993-05-03</td>\n",
       "      <td>28</td>\n",
       "      <td>cobbangela@hotmail.com</td>\n",
       "      <td>(Decimal('-40.8557635'), Decimal('-2.936099'))</td>\n",
       "      <td>Estate manager/land agent</td>\n",
       "      <td>DF</td>\n",
       "      <td>99878.74</td>\n",
       "      <td>Agressivo</td>\n",
       "      <td>NaN</td>\n",
       "      <td>5258.69</td>\n",
       "      <td>3723.10</td>\n",
       "      <td>NaN</td>\n",
       "      <td>5933.91</td>\n",
       "      <td>NaN</td>\n",
       "      <td>486.05</td>\n",
       "      <td>25.597924</td>\n",
       "      <td>86.548918</td>\n",
       "      <td>15401.75</td>\n",
       "      <td>56.073421</td>\n",
       "      <td>hotmail.com</td>\n",
       "      <td>neutro</td>\n",
       "    </tr>\n",
       "    <tr>\n",
       "      <th>id0000005</th>\n",
       "      <td>Rose Elisângela Vyrnium de Moura</td>\n",
       "      <td>Feminino</td>\n",
       "      <td>1984-06-10</td>\n",
       "      <td>37</td>\n",
       "      <td>crawfordcraig@yahoo.com</td>\n",
       "      <td>(Decimal('-20.2620885'), Decimal('104.349223'))</td>\n",
       "      <td>Chartered public finance accountant</td>\n",
       "      <td>MS</td>\n",
       "      <td>188.01</td>\n",
       "      <td>Conservador</td>\n",
       "      <td>1505.16</td>\n",
       "      <td>6415.30</td>\n",
       "      <td>3462.67</td>\n",
       "      <td>30841.35</td>\n",
       "      <td>6044.86</td>\n",
       "      <td>2198.89</td>\n",
       "      <td>512.98</td>\n",
       "      <td>14.463307</td>\n",
       "      <td>33.566292</td>\n",
       "      <td>50981.21</td>\n",
       "      <td>24.014800</td>\n",
       "      <td>yahoo.com</td>\n",
       "      <td>detrator</td>\n",
       "    </tr>\n",
       "  </tbody>\n",
       "</table>\n",
       "</div>"
      ],
      "text/plain": [
       "                                       Nome       Sexo        Nasc  Idade  \\\n",
       "id                                                                          \n",
       "id0000001             Eunice Hellen do Vale   Feminino  1970-11-12     51   \n",
       "id0000002   Sebastião Castelo Branco Júnior  Masculino  2019-12-10      2   \n",
       "id0000003         Romildo Fábio de Carvalho  Masculino  2015-12-28      6   \n",
       "id0000004         Lana Albina de Lemos Mumy   Feminino  1993-05-03     28   \n",
       "id0000005  Rose Elisângela Vyrnium de Moura   Feminino  1984-06-10     37   \n",
       "\n",
       "                             Email  \\\n",
       "id                                   \n",
       "id0000001         djones@yahoo.com   \n",
       "id0000002   barnesandrea@yahoo.com   \n",
       "id0000003  walkermichael@yahoo.com   \n",
       "id0000004   cobbangela@hotmail.com   \n",
       "id0000005  crawfordcraig@yahoo.com   \n",
       "\n",
       "                                                  Lat_long  \\\n",
       "id                                                           \n",
       "id0000001   (Decimal('24.7024355'), Decimal('-28.038258'))   \n",
       "id0000002   (Decimal('21.8589875'), Decimal('122.830566'))   \n",
       "id0000003   (Decimal('-28.2161525'), Decimal('97.140529'))   \n",
       "id0000004   (Decimal('-40.8557635'), Decimal('-2.936099'))   \n",
       "id0000005  (Decimal('-20.2620885'), Decimal('104.349223'))   \n",
       "\n",
       "                                             Job Estado     Renda  \\\n",
       "id                                                                  \n",
       "id0000001                       Technical author     TO     63.67   \n",
       "id0000002                   Biochemist, clinical     DF     21.96   \n",
       "id0000003  Development worker, international aid     DF  62497.64   \n",
       "id0000004              Estate manager/land agent     DF  99878.74   \n",
       "id0000005    Chartered public finance accountant     MS    188.01   \n",
       "\n",
       "                Perfil  Ativo01  Ativo02  Ativo03   Ativo04  Ativo05  Ativo06  \\\n",
       "id                                                                              \n",
       "id0000001     Moderado  1174.27  4980.98  2638.24       NaN  4480.91  2329.72   \n",
       "id0000002     Moderado   842.12  5646.09  3336.07       NaN  5624.22  2669.98   \n",
       "id0000003    Agressivo   818.81  5516.52  3396.64       NaN  5033.83  2229.45   \n",
       "id0000004    Agressivo      NaN  5258.69  3723.10       NaN  5933.91      NaN   \n",
       "id0000005  Conservador  1505.16  6415.30  3462.67  30841.35  6044.86  2198.89   \n",
       "\n",
       "           Ativo07      Nota1      Nota2     total      Media      Dominio  \\\n",
       "id                                                                           \n",
       "id0000001   480.72  79.600372   9.802620  16084.84  44.701496    yahoo.com   \n",
       "id0000002   504.17  44.406893  90.512871  18622.65  67.459882    yahoo.com   \n",
       "id0000003   523.12  44.020024  65.060941  17518.37  54.540483    yahoo.com   \n",
       "id0000004   486.05  25.597924  86.548918  15401.75  56.073421  hotmail.com   \n",
       "id0000005   512.98  14.463307  33.566292  50981.21  24.014800    yahoo.com   \n",
       "\n",
       "                NPS  \n",
       "id                   \n",
       "id0000001  detrator  \n",
       "id0000002    neutro  \n",
       "id0000003    neutro  \n",
       "id0000004    neutro  \n",
       "id0000005  detrator  "
      ]
     },
     "execution_count": 23,
     "metadata": {},
     "output_type": "execute_result"
    }
   ],
   "source": [
    "df_cadastro_investimento.head()"
   ]
  },
  {
   "cell_type": "markdown",
   "metadata": {},
   "source": [
    "## 8 - Calcule os seguintes dados\n",
    "- Calcule o total investido em cada coluna Ativo (tente usar o apply)\n",
    "- Qual o menor valor investido em cada ativo?\n",
    "- Mostre a média e desvio padrão de cada ativo\n",
    "- Qual o nome e a idade do investidor mais velho?\n",
    "- Qual a mediana da coluna Média?"
   ]
  },
  {
   "cell_type": "code",
   "execution_count": 24,
   "metadata": {},
   "outputs": [
    {
     "data": {
      "text/plain": [
       "Ativo01    3.275569e+07\n",
       "Ativo02    1.680798e+08\n",
       "Ativo03    1.023306e+08\n",
       "Ativo04    4.071340e+08\n",
       "Ativo05    1.720668e+08\n",
       "Ativo06    4.462684e+07\n",
       "Ativo07    1.937903e+07\n",
       "dtype: float64"
      ]
     },
     "execution_count": 24,
     "metadata": {},
     "output_type": "execute_result"
    }
   ],
   "source": [
    "df_cadastro_investimento[[\"Ativo01\", \"Ativo02\", \"Ativo03\", \"Ativo04\", \"Ativo05\", \"Ativo06\", \"Ativo07\"]].sum()"
   ]
  },
  {
   "cell_type": "code",
   "execution_count": 25,
   "metadata": {},
   "outputs": [
    {
     "data": {
      "text/plain": [
       "Ativo01     800.01\n",
       "Ativo02    4500.05\n",
       "Ativo03    2500.01\n",
       "Ativo04    5000.81\n",
       "Ativo05    4000.14\n",
       "Ativo06    2000.04\n",
       "Ativo07     462.93\n",
       "dtype: float64"
      ]
     },
     "execution_count": 25,
     "metadata": {},
     "output_type": "execute_result"
    }
   ],
   "source": [
    "df_cadastro_investimento[[\"Ativo01\", \"Ativo02\", \"Ativo03\", \"Ativo04\", \"Ativo05\", \"Ativo06\", \"Ativo07\"]].min()"
   ]
  },
  {
   "cell_type": "code",
   "execution_count": 26,
   "metadata": {},
   "outputs": [
    {
     "data": {
      "text/plain": [
       "Ativo01     1128.339300\n",
       "Ativo02     5147.296098\n",
       "Ativo03     3140.418931\n",
       "Ativo04    15153.681742\n",
       "Ativo05     5284.120661\n",
       "Ativo06     2319.482555\n",
       "Ativo07      500.052452\n",
       "dtype: float64"
      ]
     },
     "execution_count": 26,
     "metadata": {},
     "output_type": "execute_result"
    }
   ],
   "source": [
    "df_cadastro_investimento[[\"Ativo01\", \"Ativo02\", \"Ativo03\", \"Ativo04\", \"Ativo05\", \"Ativo06\", \"Ativo07\"]].mean()"
   ]
  },
  {
   "cell_type": "code",
   "execution_count": 27,
   "metadata": {},
   "outputs": [
    {
     "data": {
      "text/plain": [
       "Ativo01     218.822710\n",
       "Ativo02     398.676500\n",
       "Ativo03     395.714600\n",
       "Ativo04    6972.128306\n",
       "Ativo05     795.181272\n",
       "Ativo06     240.669641\n",
       "Ativo07       9.998218\n",
       "dtype: float64"
      ]
     },
     "execution_count": 27,
     "metadata": {},
     "output_type": "execute_result"
    }
   ],
   "source": [
    "df_cadastro_investimento[[\"Ativo01\", \"Ativo02\", \"Ativo03\", \"Ativo04\", \"Ativo05\", \"Ativo06\", \"Ativo07\"]].std()"
   ]
  },
  {
   "cell_type": "code",
   "execution_count": 28,
   "metadata": {},
   "outputs": [
    {
     "data": {
      "text/html": [
       "<div>\n",
       "<style scoped>\n",
       "    .dataframe tbody tr th:only-of-type {\n",
       "        vertical-align: middle;\n",
       "    }\n",
       "\n",
       "    .dataframe tbody tr th {\n",
       "        vertical-align: top;\n",
       "    }\n",
       "\n",
       "    .dataframe thead th {\n",
       "        text-align: right;\n",
       "    }\n",
       "</style>\n",
       "<table border=\"1\" class=\"dataframe\">\n",
       "  <thead>\n",
       "    <tr style=\"text-align: right;\">\n",
       "      <th></th>\n",
       "      <th>Nome</th>\n",
       "      <th>Idade</th>\n",
       "    </tr>\n",
       "    <tr>\n",
       "      <th>id</th>\n",
       "      <th></th>\n",
       "      <th></th>\n",
       "    </tr>\n",
       "  </thead>\n",
       "  <tbody>\n",
       "    <tr>\n",
       "      <th>id0004895</th>\n",
       "      <td>Vívian Cássia de Salgado</td>\n",
       "      <td>51</td>\n",
       "    </tr>\n",
       "    <tr>\n",
       "      <th>id0022282</th>\n",
       "      <td>Priscila Gomes</td>\n",
       "      <td>51</td>\n",
       "    </tr>\n",
       "  </tbody>\n",
       "</table>\n",
       "</div>"
      ],
      "text/plain": [
       "                               Nome  Idade\n",
       "id                                        \n",
       "id0004895  Vívian Cássia de Salgado     51\n",
       "id0022282            Priscila Gomes     51"
      ]
     },
     "execution_count": 28,
     "metadata": {},
     "output_type": "execute_result"
    }
   ],
   "source": [
    "# nome e idade\n",
    "df_cadastro_investimento[df_cadastro_investimento[\"Nasc\"] == df_cadastro_investimento[\"Nasc\"].min()][[\"Nome\", \"Idade\"]]\n"
   ]
  },
  {
   "cell_type": "code",
   "execution_count": 29,
   "metadata": {},
   "outputs": [
    {
     "data": {
      "text/plain": [
       "49.77682759949835"
      ]
     },
     "execution_count": 29,
     "metadata": {},
     "output_type": "execute_result"
    }
   ],
   "source": [
    "df_cadastro_investimento[\"Media\"].median()"
   ]
  },
  {
   "cell_type": "markdown",
   "metadata": {},
   "source": [
    "## 9 - Responder as perguntas abaixo\n",
    "\n",
    "- Quantos investidores são agressivos, moderados e conservadores?\n",
    "- Mostre os 10 primeiros ids dos investidores de perfil Agressivo e Moderado.\n",
    "- Quantos investidores são do sexo feminino?\n",
    "- Quantos investidores investiram mais de 16000 no Ativo04?\n",
    "- Quantos investidores investiram mais de 16000 no Ativo04 e menos de 5000 no Ativo05?\n",
    "- Quais investidores do sexo feminino tem mais de 25 anos e seu investimento total foi menor que 10000? \n",
    "\n",
    "\n",
    "- Quantos investidores tem em cada estado (dica: use groupby)\n",
    "- Qual é a soma do total investido por cada estado?\n",
    "- Qual é a média do total investido por promotores, detratores e neutros? E como se dividem nos estados\n",
    "- Crie 3 colunas \"dummies\" do perfil dos investidores\n",
    "\n",
    "\n",
    "- Crie uma tabela com total de investimentos de promotores, detratores e neutros em função do perfil. (dica: use pivot_table)\n",
    "\n"
   ]
  },
  {
   "cell_type": "code",
   "execution_count": 44,
   "metadata": {},
   "outputs": [],
   "source": [
    "# - Quantos investidores são agressivos, moderados e conservadores?\n",
    "questao_1 = df_cadastro_investimento[\"Perfil\"].value_counts()"
   ]
  },
  {
   "cell_type": "code",
   "execution_count": 46,
   "metadata": {},
   "outputs": [
    {
     "data": {
      "text/plain": [
       "pandas.core.series.Series"
      ]
     },
     "execution_count": 46,
     "metadata": {},
     "output_type": "execute_result"
    }
   ],
   "source": [
    "type(questao_1)"
   ]
  },
  {
   "cell_type": "code",
   "execution_count": 40,
   "metadata": {},
   "outputs": [],
   "source": [
    "import seaborn as sns"
   ]
  },
  {
   "cell_type": "code",
   "execution_count": 47,
   "metadata": {},
   "outputs": [
    {
     "data": {
      "image/png": "[encoded data removed]",
      "text/plain": [
       "<Figure size 640x480 with 1 Axes>"
      ]
     },
     "metadata": {},
     "output_type": "display_data"
    }
   ],
   "source": [
    "with sns.axes_style(\"whitegrid\"):\n",
    "    grafico = sns.barplot(x=questao_1.index, y=questao_1.values)"
   ]
  },
  {
   "cell_type": "code",
   "execution_count": 48,
   "metadata": {},
   "outputs": [
    {
     "data": {
      "text/plain": [
       "id\n",
       "id0000001       Moderado\n",
       "id0000002       Moderado\n",
       "id0000003      Agressivo\n",
       "id0000004      Agressivo\n",
       "id0000005    Conservador\n",
       "id0000006      Agressivo\n",
       "id0000007       Moderado\n",
       "id0000008      Agressivo\n",
       "id0000009      Agressivo\n",
       "id0000010      Agressivo\n",
       "Name: Perfil, dtype: object"
      ]
     },
     "execution_count": 48,
     "metadata": {},
     "output_type": "execute_result"
    }
   ],
   "source": [
    "# - Mostre os 10 primeiros ids dos investidores de perfil Agressivo e Moderado.\n",
    "df_cadastro_investimento[\"Perfil\"].head(10)"
   ]
  },
  {
   "cell_type": "code",
   "execution_count": 52,
   "metadata": {},
   "outputs": [
    {
     "data": {
      "text/plain": [
       "19385"
      ]
     },
     "execution_count": 52,
     "metadata": {},
     "output_type": "execute_result"
    }
   ],
   "source": [
    "# - Quantos investidores são do sexo feminino?\n",
    "df_cadastro_investimento[df_cadastro_investimento[\"Sexo\"] == \"Feminino\"][\"Perfil\"].count()"
   ]
  },
  {
   "cell_type": "code",
   "execution_count": 56,
   "metadata": {},
   "outputs": [
    {
     "data": {
      "text/plain": [
       "10689"
      ]
     },
     "execution_count": 56,
     "metadata": {},
     "output_type": "execute_result"
    }
   ],
   "source": [
    "# - Quantos investidores investiram mais de 16000 no Ativo04?\n",
    "df_cadastro_investimento[df_cadastro_investimento[\"Ativo04\"] > 16000][\"Perfil\"].count()"
   ]
  },
  {
   "cell_type": "code",
   "execution_count": 58,
   "metadata": {},
   "outputs": [
    {
     "data": {
      "text/plain": [
       "3684"
      ]
     },
     "execution_count": 58,
     "metadata": {},
     "output_type": "execute_result"
    }
   ],
   "source": [
    "# - Quantos investidores investiram mais de 16000 no Ativo04 e menos de 5000 no Ativo05?\n",
    "df_cadastro_investimento[(df_cadastro_investimento[\"Ativo04\"] > 16000) & (df_cadastro_investimento[\"Ativo05\"] < 5000)][\"Perfil\"].count()"
   ]
  },
  {
   "cell_type": "code",
   "execution_count": 62,
   "metadata": {},
   "outputs": [
    {
     "data": {
      "text/plain": [
       "442"
      ]
     },
     "execution_count": 62,
     "metadata": {},
     "output_type": "execute_result"
    }
   ],
   "source": [
    "# - Quais investidores do sexo feminino tem mais de 25 anos e seu investimento total foi menor que 10000? \n",
    "df_cadastro_investimento[(df_cadastro_investimento[\"Sexo\"] == \"Feminino\") & (df_cadastro_investimento[\"Idade\"] > 25) & (df_cadastro_investimento[\"total\"] < 10000)][\"Perfil\"].count()"
   ]
  },
  {
   "cell_type": "code",
   "execution_count": 65,
   "metadata": {},
   "outputs": [
    {
     "data": {
      "text/plain": [
       "Estado\n",
       "AC    1435\n",
       "AL    1376\n",
       "AM    1495\n",
       "AP    1438\n",
       "BA    1484\n",
       "CE    1465\n",
       "DF    1470\n",
       "ES    1472\n",
       "GO    1394\n",
       "MA    1454\n",
       "MG    1407\n",
       "MS    1436\n",
       "MT    1390\n",
       "PA    1421\n",
       "PB    1405\n",
       "PE    1477\n",
       "PI    1503\n",
       "PR    1371\n",
       "RJ    1466\n",
       "RN    1472\n",
       "RO    1440\n",
       "RR    1495\n",
       "RS    1393\n",
       "SC    1430\n",
       "SE    1319\n",
       "SP    1464\n",
       "TO    1382\n",
       "dtype: int64"
      ]
     },
     "execution_count": 65,
     "metadata": {},
     "output_type": "execute_result"
    }
   ],
   "source": [
    "# - Quantos investidores tem em cada estado (dica: use groupby)\n",
    "#df_cadastro_investimento[\"Estado\"].value_counts()\n",
    "grafico2 = df_cadastro_investimento.groupby(\"Estado\").size()\n",
    "grafico2"
   ]
  },
  {
   "cell_type": "code",
   "execution_count": 70,
   "metadata": {},
   "outputs": [
    {
     "data": {
      "image/png": "[encoded data removed]",
      "text/plain": [
       "<Figure size 2000x500 with 1 Axes>"
      ]
     },
     "metadata": {},
     "output_type": "display_data"
    }
   ],
   "source": [
    "with sns.axes_style(\"whitegrid\"):\n",
    "    grafico = sns.barplot(x=grafico2.index, y=grafico2.values)\n",
    "    grafico.figure.set_size_inches(20, 5)"
   ]
  },
  {
   "cell_type": "code",
   "execution_count": 75,
   "metadata": {},
   "outputs": [
    {
     "data": {
      "image/png": "[encoded data removed]",
      "text/plain": [
       "<Figure size 2000x500 with 1 Axes>"
      ]
     },
     "metadata": {},
     "output_type": "display_data"
    }
   ],
   "source": [
    "#- Qual é a soma do total investido por cada estado?\n",
    "grafico3 = df_cadastro_investimento[[\"Estado\", \"total\"]].groupby(\"Estado\").sum()\n",
    "with sns.axes_style(\"whitegrid\"):\n",
    "    grafico = sns.barplot(x=grafico3.index, y=grafico3[\"total\"])\n",
    "    grafico.figure.set_size_inches(20, 5)"
   ]
  },
  {
   "cell_type": "code",
   "execution_count": 78,
   "metadata": {},
   "outputs": [
    {
     "data": {
      "text/html": [
       "<div>\n",
       "<style scoped>\n",
       "    .dataframe tbody tr th:only-of-type {\n",
       "        vertical-align: middle;\n",
       "    }\n",
       "\n",
       "    .dataframe tbody tr th {\n",
       "        vertical-align: top;\n",
       "    }\n",
       "\n",
       "    .dataframe thead th {\n",
       "        text-align: right;\n",
       "    }\n",
       "</style>\n",
       "<table border=\"1\" class=\"dataframe\">\n",
       "  <thead>\n",
       "    <tr style=\"text-align: right;\">\n",
       "      <th></th>\n",
       "      <th>total</th>\n",
       "    </tr>\n",
       "    <tr>\n",
       "      <th>NPS</th>\n",
       "      <th></th>\n",
       "    </tr>\n",
       "  </thead>\n",
       "  <tbody>\n",
       "    <tr>\n",
       "      <th>detrator</th>\n",
       "      <td>24389.706133</td>\n",
       "    </tr>\n",
       "    <tr>\n",
       "      <th>neutro</th>\n",
       "      <td>24496.088985</td>\n",
       "    </tr>\n",
       "    <tr>\n",
       "      <th>promotor</th>\n",
       "      <td>24261.049125</td>\n",
       "    </tr>\n",
       "  </tbody>\n",
       "</table>\n",
       "</div>"
      ],
      "text/plain": [
       "                 total\n",
       "NPS                   \n",
       "detrator  24389.706133\n",
       "neutro    24496.088985\n",
       "promotor  24261.049125"
      ]
     },
     "execution_count": 78,
     "metadata": {},
     "output_type": "execute_result"
    }
   ],
   "source": [
    "#- Qual é a média do total investido por promotores, detratores e neutros? E como se dividem nos estados\n",
    "df_cadastro_investimento[[\"NPS\", \"total\"]].groupby(\"NPS\").mean()"
   ]
  },
  {
   "cell_type": "code",
   "execution_count": 83,
   "metadata": {},
   "outputs": [
    {
     "data": {
      "text/html": [
       "<div>\n",
       "<style scoped>\n",
       "    .dataframe tbody tr th:only-of-type {\n",
       "        vertical-align: middle;\n",
       "    }\n",
       "\n",
       "    .dataframe tbody tr th {\n",
       "        vertical-align: top;\n",
       "    }\n",
       "\n",
       "    .dataframe thead th {\n",
       "        text-align: right;\n",
       "    }\n",
       "</style>\n",
       "<table border=\"1\" class=\"dataframe\">\n",
       "  <thead>\n",
       "    <tr style=\"text-align: right;\">\n",
       "      <th></th>\n",
       "      <th></th>\n",
       "      <th>total</th>\n",
       "    </tr>\n",
       "    <tr>\n",
       "      <th>Estado</th>\n",
       "      <th>NPS</th>\n",
       "      <th></th>\n",
       "    </tr>\n",
       "  </thead>\n",
       "  <tbody>\n",
       "    <tr>\n",
       "      <th rowspan=\"3\" valign=\"top\">AC</th>\n",
       "      <th>detrator</th>\n",
       "      <td>24756.253232</td>\n",
       "    </tr>\n",
       "    <tr>\n",
       "      <th>neutro</th>\n",
       "      <td>24316.072621</td>\n",
       "    </tr>\n",
       "    <tr>\n",
       "      <th>promotor</th>\n",
       "      <td>25463.025496</td>\n",
       "    </tr>\n",
       "    <tr>\n",
       "      <th rowspan=\"2\" valign=\"top\">AL</th>\n",
       "      <th>detrator</th>\n",
       "      <td>24647.073488</td>\n",
       "    </tr>\n",
       "    <tr>\n",
       "      <th>neutro</th>\n",
       "      <td>24352.010897</td>\n",
       "    </tr>\n",
       "    <tr>\n",
       "      <th>...</th>\n",
       "      <th>...</th>\n",
       "      <td>...</td>\n",
       "    </tr>\n",
       "    <tr>\n",
       "      <th rowspan=\"2\" valign=\"top\">SP</th>\n",
       "      <th>neutro</th>\n",
       "      <td>24301.115431</td>\n",
       "    </tr>\n",
       "    <tr>\n",
       "      <th>promotor</th>\n",
       "      <td>24408.522314</td>\n",
       "    </tr>\n",
       "    <tr>\n",
       "      <th rowspan=\"3\" valign=\"top\">TO</th>\n",
       "      <th>detrator</th>\n",
       "      <td>23937.926221</td>\n",
       "    </tr>\n",
       "    <tr>\n",
       "      <th>neutro</th>\n",
       "      <td>25055.921996</td>\n",
       "    </tr>\n",
       "    <tr>\n",
       "      <th>promotor</th>\n",
       "      <td>22393.722365</td>\n",
       "    </tr>\n",
       "  </tbody>\n",
       "</table>\n",
       "<p>81 rows × 1 columns</p>\n",
       "</div>"
      ],
      "text/plain": [
       "                        total\n",
       "Estado NPS                   \n",
       "AC     detrator  24756.253232\n",
       "       neutro    24316.072621\n",
       "       promotor  25463.025496\n",
       "AL     detrator  24647.073488\n",
       "       neutro    24352.010897\n",
       "...                       ...\n",
       "SP     neutro    24301.115431\n",
       "       promotor  24408.522314\n",
       "TO     detrator  23937.926221\n",
       "       neutro    25055.921996\n",
       "       promotor  22393.722365\n",
       "\n",
       "[81 rows x 1 columns]"
      ]
     },
     "execution_count": 83,
     "metadata": {},
     "output_type": "execute_result"
    }
   ],
   "source": [
    "df_cadastro_investimento[[\"NPS\", \"total\", \"Estado\"]].groupby([\"Estado\", \"NPS\"]).mean()"
   ]
  },
  {
   "cell_type": "code",
   "execution_count": 91,
   "metadata": {},
   "outputs": [],
   "source": [
    "#- Crie 3 colunas \"dummies\" do perfil dos investidores\n",
    "# df_dummies = pd.get_dummies(df['Categoria'], columns=['Categoria_A', 'Categoria_B', 'Categoria_C'])\n",
    "df_cadastro_investimento = pd.concat([df_cadastro_investimento, pd.get_dummies(df_cadastro_investimento[\"Perfil\"])], axis=1)"
   ]
  },
  {
   "cell_type": "code",
   "execution_count": 92,
   "metadata": {},
   "outputs": [
    {
     "data": {
      "text/html": [
       "<div>\n",
       "<style scoped>\n",
       "    .dataframe tbody tr th:only-of-type {\n",
       "        vertical-align: middle;\n",
       "    }\n",
       "\n",
       "    .dataframe tbody tr th {\n",
       "        vertical-align: top;\n",
       "    }\n",
       "\n",
       "    .dataframe thead th {\n",
       "        text-align: right;\n",
       "    }\n",
       "</style>\n",
       "<table border=\"1\" class=\"dataframe\">\n",
       "  <thead>\n",
       "    <tr style=\"text-align: right;\">\n",
       "      <th></th>\n",
       "      <th>Nome</th>\n",
       "      <th>Sexo</th>\n",
       "      <th>Nasc</th>\n",
       "      <th>Idade</th>\n",
       "      <th>Email</th>\n",
       "      <th>Lat_long</th>\n",
       "      <th>Job</th>\n",
       "      <th>Estado</th>\n",
       "      <th>Renda</th>\n",
       "      <th>Perfil</th>\n",
       "      <th>Ativo01</th>\n",
       "      <th>Ativo02</th>\n",
       "      <th>Ativo03</th>\n",
       "      <th>Ativo04</th>\n",
       "      <th>Ativo05</th>\n",
       "      <th>Ativo06</th>\n",
       "      <th>Ativo07</th>\n",
       "      <th>Nota1</th>\n",
       "      <th>Nota2</th>\n",
       "      <th>total</th>\n",
       "      <th>Media</th>\n",
       "      <th>Dominio</th>\n",
       "      <th>NPS</th>\n",
       "      <th>Agressivo</th>\n",
       "      <th>Conservador</th>\n",
       "      <th>Moderado</th>\n",
       "    </tr>\n",
       "    <tr>\n",
       "      <th>id</th>\n",
       "      <th></th>\n",
       "      <th></th>\n",
       "      <th></th>\n",
       "      <th></th>\n",
       "      <th></th>\n",
       "      <th></th>\n",
       "      <th></th>\n",
       "      <th></th>\n",
       "      <th></th>\n",
       "      <th></th>\n",
       "      <th></th>\n",
       "      <th></th>\n",
       "      <th></th>\n",
       "      <th></th>\n",
       "      <th></th>\n",
       "      <th></th>\n",
       "      <th></th>\n",
       "      <th></th>\n",
       "      <th></th>\n",
       "      <th></th>\n",
       "      <th></th>\n",
       "      <th></th>\n",
       "      <th></th>\n",
       "      <th></th>\n",
       "      <th></th>\n",
       "      <th></th>\n",
       "    </tr>\n",
       "  </thead>\n",
       "  <tbody>\n",
       "    <tr>\n",
       "      <th>id0000001</th>\n",
       "      <td>Eunice Hellen do Vale</td>\n",
       "      <td>Feminino</td>\n",
       "      <td>1970-11-12</td>\n",
       "      <td>51</td>\n",
       "      <td>djones@yahoo.com</td>\n",
       "      <td>(Decimal('24.7024355'), Decimal('-28.038258'))</td>\n",
       "      <td>Technical author</td>\n",
       "      <td>TO</td>\n",
       "      <td>63.67</td>\n",
       "      <td>Moderado</td>\n",
       "      <td>1174.27</td>\n",
       "      <td>4980.98</td>\n",
       "      <td>2638.24</td>\n",
       "      <td>NaN</td>\n",
       "      <td>4480.91</td>\n",
       "      <td>2329.72</td>\n",
       "      <td>480.72</td>\n",
       "      <td>79.600372</td>\n",
       "      <td>9.802620</td>\n",
       "      <td>16084.84</td>\n",
       "      <td>44.701496</td>\n",
       "      <td>yahoo.com</td>\n",
       "      <td>detrator</td>\n",
       "      <td>False</td>\n",
       "      <td>False</td>\n",
       "      <td>True</td>\n",
       "    </tr>\n",
       "    <tr>\n",
       "      <th>id0000002</th>\n",
       "      <td>Sebastião Castelo Branco Júnior</td>\n",
       "      <td>Masculino</td>\n",
       "      <td>2019-12-10</td>\n",
       "      <td>2</td>\n",
       "      <td>barnesandrea@yahoo.com</td>\n",
       "      <td>(Decimal('21.8589875'), Decimal('122.830566'))</td>\n",
       "      <td>Biochemist, clinical</td>\n",
       "      <td>DF</td>\n",
       "      <td>21.96</td>\n",
       "      <td>Moderado</td>\n",
       "      <td>842.12</td>\n",
       "      <td>5646.09</td>\n",
       "      <td>3336.07</td>\n",
       "      <td>NaN</td>\n",
       "      <td>5624.22</td>\n",
       "      <td>2669.98</td>\n",
       "      <td>504.17</td>\n",
       "      <td>44.406893</td>\n",
       "      <td>90.512871</td>\n",
       "      <td>18622.65</td>\n",
       "      <td>67.459882</td>\n",
       "      <td>yahoo.com</td>\n",
       "      <td>neutro</td>\n",
       "      <td>False</td>\n",
       "      <td>False</td>\n",
       "      <td>True</td>\n",
       "    </tr>\n",
       "    <tr>\n",
       "      <th>id0000003</th>\n",
       "      <td>Romildo Fábio de Carvalho</td>\n",
       "      <td>Masculino</td>\n",
       "      <td>2015-12-28</td>\n",
       "      <td>6</td>\n",
       "      <td>walkermichael@yahoo.com</td>\n",
       "      <td>(Decimal('-28.2161525'), Decimal('97.140529'))</td>\n",
       "      <td>Development worker, international aid</td>\n",
       "      <td>DF</td>\n",
       "      <td>62497.64</td>\n",
       "      <td>Agressivo</td>\n",
       "      <td>818.81</td>\n",
       "      <td>5516.52</td>\n",
       "      <td>3396.64</td>\n",
       "      <td>NaN</td>\n",
       "      <td>5033.83</td>\n",
       "      <td>2229.45</td>\n",
       "      <td>523.12</td>\n",
       "      <td>44.020024</td>\n",
       "      <td>65.060941</td>\n",
       "      <td>17518.37</td>\n",
       "      <td>54.540483</td>\n",
       "      <td>yahoo.com</td>\n",
       "      <td>neutro</td>\n",
       "      <td>True</td>\n",
       "      <td>False</td>\n",
       "      <td>False</td>\n",
       "    </tr>\n",
       "    <tr>\n",
       "      <th>id0000004</th>\n",
       "      <td>Lana Albina de Lemos Mumy</td>\n",
       "      <td>Feminino</td>\n",
       "      <td>1993-05-03</td>\n",
       "      <td>28</td>\n",
       "      <td>cobbangela@hotmail.com</td>\n",
       "      <td>(Decimal('-40.8557635'), Decimal('-2.936099'))</td>\n",
       "      <td>Estate manager/land agent</td>\n",
       "      <td>DF</td>\n",
       "      <td>99878.74</td>\n",
       "      <td>Agressivo</td>\n",
       "      <td>NaN</td>\n",
       "      <td>5258.69</td>\n",
       "      <td>3723.10</td>\n",
       "      <td>NaN</td>\n",
       "      <td>5933.91</td>\n",
       "      <td>NaN</td>\n",
       "      <td>486.05</td>\n",
       "      <td>25.597924</td>\n",
       "      <td>86.548918</td>\n",
       "      <td>15401.75</td>\n",
       "      <td>56.073421</td>\n",
       "      <td>hotmail.com</td>\n",
       "      <td>neutro</td>\n",
       "      <td>True</td>\n",
       "      <td>False</td>\n",
       "      <td>False</td>\n",
       "    </tr>\n",
       "    <tr>\n",
       "      <th>id0000005</th>\n",
       "      <td>Rose Elisângela Vyrnium de Moura</td>\n",
       "      <td>Feminino</td>\n",
       "      <td>1984-06-10</td>\n",
       "      <td>37</td>\n",
       "      <td>crawfordcraig@yahoo.com</td>\n",
       "      <td>(Decimal('-20.2620885'), Decimal('104.349223'))</td>\n",
       "      <td>Chartered public finance accountant</td>\n",
       "      <td>MS</td>\n",
       "      <td>188.01</td>\n",
       "      <td>Conservador</td>\n",
       "      <td>1505.16</td>\n",
       "      <td>6415.30</td>\n",
       "      <td>3462.67</td>\n",
       "      <td>30841.35</td>\n",
       "      <td>6044.86</td>\n",
       "      <td>2198.89</td>\n",
       "      <td>512.98</td>\n",
       "      <td>14.463307</td>\n",
       "      <td>33.566292</td>\n",
       "      <td>50981.21</td>\n",
       "      <td>24.014800</td>\n",
       "      <td>yahoo.com</td>\n",
       "      <td>detrator</td>\n",
       "      <td>False</td>\n",
       "      <td>True</td>\n",
       "      <td>False</td>\n",
       "    </tr>\n",
       "  </tbody>\n",
       "</table>\n",
       "</div>"
      ],
      "text/plain": [
       "                                       Nome       Sexo        Nasc  Idade  \\\n",
       "id                                                                          \n",
       "id0000001             Eunice Hellen do Vale   Feminino  1970-11-12     51   \n",
       "id0000002   Sebastião Castelo Branco Júnior  Masculino  2019-12-10      2   \n",
       "id0000003         Romildo Fábio de Carvalho  Masculino  2015-12-28      6   \n",
       "id0000004         Lana Albina de Lemos Mumy   Feminino  1993-05-03     28   \n",
       "id0000005  Rose Elisângela Vyrnium de Moura   Feminino  1984-06-10     37   \n",
       "\n",
       "                             Email  \\\n",
       "id                                   \n",
       "id0000001         djones@yahoo.com   \n",
       "id0000002   barnesandrea@yahoo.com   \n",
       "id0000003  walkermichael@yahoo.com   \n",
       "id0000004   cobbangela@hotmail.com   \n",
       "id0000005  crawfordcraig@yahoo.com   \n",
       "\n",
       "                                                  Lat_long  \\\n",
       "id                                                           \n",
       "id0000001   (Decimal('24.7024355'), Decimal('-28.038258'))   \n",
       "id0000002   (Decimal('21.8589875'), Decimal('122.830566'))   \n",
       "id0000003   (Decimal('-28.2161525'), Decimal('97.140529'))   \n",
       "id0000004   (Decimal('-40.8557635'), Decimal('-2.936099'))   \n",
       "id0000005  (Decimal('-20.2620885'), Decimal('104.349223'))   \n",
       "\n",
       "                                             Job Estado     Renda  \\\n",
       "id                                                                  \n",
       "id0000001                       Technical author     TO     63.67   \n",
       "id0000002                   Biochemist, clinical     DF     21.96   \n",
       "id0000003  Development worker, international aid     DF  62497.64   \n",
       "id0000004              Estate manager/land agent     DF  99878.74   \n",
       "id0000005    Chartered public finance accountant     MS    188.01   \n",
       "\n",
       "                Perfil  Ativo01  Ativo02  Ativo03   Ativo04  Ativo05  Ativo06  \\\n",
       "id                                                                              \n",
       "id0000001     Moderado  1174.27  4980.98  2638.24       NaN  4480.91  2329.72   \n",
       "id0000002     Moderado   842.12  5646.09  3336.07       NaN  5624.22  2669.98   \n",
       "id0000003    Agressivo   818.81  5516.52  3396.64       NaN  5033.83  2229.45   \n",
       "id0000004    Agressivo      NaN  5258.69  3723.10       NaN  5933.91      NaN   \n",
       "id0000005  Conservador  1505.16  6415.30  3462.67  30841.35  6044.86  2198.89   \n",
       "\n",
       "           Ativo07      Nota1      Nota2     total      Media      Dominio  \\\n",
       "id                                                                           \n",
       "id0000001   480.72  79.600372   9.802620  16084.84  44.701496    yahoo.com   \n",
       "id0000002   504.17  44.406893  90.512871  18622.65  67.459882    yahoo.com   \n",
       "id0000003   523.12  44.020024  65.060941  17518.37  54.540483    yahoo.com   \n",
       "id0000004   486.05  25.597924  86.548918  15401.75  56.073421  hotmail.com   \n",
       "id0000005   512.98  14.463307  33.566292  50981.21  24.014800    yahoo.com   \n",
       "\n",
       "                NPS  Agressivo  Conservador  Moderado  \n",
       "id                                                     \n",
       "id0000001  detrator      False        False      True  \n",
       "id0000002    neutro      False        False      True  \n",
       "id0000003    neutro       True        False     False  \n",
       "id0000004    neutro       True        False     False  \n",
       "id0000005  detrator      False         True     False  "
      ]
     },
     "execution_count": 92,
     "metadata": {},
     "output_type": "execute_result"
    }
   ],
   "source": [
    "df_cadastro_investimento.head()"
   ]
  },
  {
   "cell_type": "code",
   "execution_count": 100,
   "metadata": {},
   "outputs": [
    {
     "data": {
      "text/html": [
       "<div>\n",
       "<style scoped>\n",
       "    .dataframe tbody tr th:only-of-type {\n",
       "        vertical-align: middle;\n",
       "    }\n",
       "\n",
       "    .dataframe tbody tr th {\n",
       "        vertical-align: top;\n",
       "    }\n",
       "\n",
       "    .dataframe thead th {\n",
       "        text-align: right;\n",
       "    }\n",
       "</style>\n",
       "<table border=\"1\" class=\"dataframe\">\n",
       "  <thead>\n",
       "    <tr style=\"text-align: right;\">\n",
       "      <th>Perfil</th>\n",
       "      <th>Agressivo</th>\n",
       "      <th>Conservador</th>\n",
       "      <th>Moderado</th>\n",
       "    </tr>\n",
       "    <tr>\n",
       "      <th>NPS</th>\n",
       "      <th></th>\n",
       "      <th></th>\n",
       "      <th></th>\n",
       "    </tr>\n",
       "  </thead>\n",
       "  <tbody>\n",
       "    <tr>\n",
       "      <th>detrator</th>\n",
       "      <td>1.596611e+08</td>\n",
       "      <td>1.615007e+08</td>\n",
       "      <td>1.572179e+08</td>\n",
       "    </tr>\n",
       "    <tr>\n",
       "      <th>neutro</th>\n",
       "      <td>1.280908e+08</td>\n",
       "      <td>1.243313e+08</td>\n",
       "      <td>1.265814e+08</td>\n",
       "    </tr>\n",
       "    <tr>\n",
       "      <th>promotor</th>\n",
       "      <td>3.043271e+07</td>\n",
       "      <td>2.839878e+07</td>\n",
       "      <td>3.015804e+07</td>\n",
       "    </tr>\n",
       "  </tbody>\n",
       "</table>\n",
       "</div>"
      ],
      "text/plain": [
       "Perfil       Agressivo   Conservador      Moderado\n",
       "NPS                                               \n",
       "detrator  1.596611e+08  1.615007e+08  1.572179e+08\n",
       "neutro    1.280908e+08  1.243313e+08  1.265814e+08\n",
       "promotor  3.043271e+07  2.839878e+07  3.015804e+07"
      ]
     },
     "execution_count": 100,
     "metadata": {},
     "output_type": "execute_result"
    }
   ],
   "source": [
    "# - Crie uma tabela com total de investimentos de promotores, detratores e neutros em função do perfil. (dica: use pivot_table)\n",
    "df_cadastro_investimento[[\"NPS\", \"Perfil\", \"total\"]].pivot_table(values=\"total\", index=\"NPS\", columns=\"Perfil\", aggfunc=\"sum\", fill_value=0)"
   ]
  },
  {
   "cell_type": "code",
   "execution_count": 103,
   "metadata": {},
   "outputs": [
    {
     "data": {
      "text/html": [
       "<div>\n",
       "<style scoped>\n",
       "    .dataframe tbody tr th:only-of-type {\n",
       "        vertical-align: middle;\n",
       "    }\n",
       "\n",
       "    .dataframe tbody tr th {\n",
       "        vertical-align: top;\n",
       "    }\n",
       "\n",
       "    .dataframe thead th {\n",
       "        text-align: right;\n",
       "    }\n",
       "</style>\n",
       "<table border=\"1\" class=\"dataframe\">\n",
       "  <thead>\n",
       "    <tr style=\"text-align: right;\">\n",
       "      <th></th>\n",
       "      <th></th>\n",
       "      <th>total</th>\n",
       "    </tr>\n",
       "    <tr>\n",
       "      <th>NPS</th>\n",
       "      <th>Perfil</th>\n",
       "      <th></th>\n",
       "    </tr>\n",
       "  </thead>\n",
       "  <tbody>\n",
       "    <tr>\n",
       "      <th rowspan=\"3\" valign=\"top\">detrator</th>\n",
       "      <th>Agressivo</th>\n",
       "      <td>1.596611e+08</td>\n",
       "    </tr>\n",
       "    <tr>\n",
       "      <th>Conservador</th>\n",
       "      <td>1.615007e+08</td>\n",
       "    </tr>\n",
       "    <tr>\n",
       "      <th>Moderado</th>\n",
       "      <td>1.572179e+08</td>\n",
       "    </tr>\n",
       "    <tr>\n",
       "      <th rowspan=\"3\" valign=\"top\">neutro</th>\n",
       "      <th>Agressivo</th>\n",
       "      <td>1.280908e+08</td>\n",
       "    </tr>\n",
       "    <tr>\n",
       "      <th>Conservador</th>\n",
       "      <td>1.243313e+08</td>\n",
       "    </tr>\n",
       "    <tr>\n",
       "      <th>Moderado</th>\n",
       "      <td>1.265814e+08</td>\n",
       "    </tr>\n",
       "    <tr>\n",
       "      <th rowspan=\"3\" valign=\"top\">promotor</th>\n",
       "      <th>Agressivo</th>\n",
       "      <td>3.043271e+07</td>\n",
       "    </tr>\n",
       "    <tr>\n",
       "      <th>Conservador</th>\n",
       "      <td>2.839878e+07</td>\n",
       "    </tr>\n",
       "    <tr>\n",
       "      <th>Moderado</th>\n",
       "      <td>3.015804e+07</td>\n",
       "    </tr>\n",
       "  </tbody>\n",
       "</table>\n",
       "</div>"
      ],
      "text/plain": [
       "                             total\n",
       "NPS      Perfil                   \n",
       "detrator Agressivo    1.596611e+08\n",
       "         Conservador  1.615007e+08\n",
       "         Moderado     1.572179e+08\n",
       "neutro   Agressivo    1.280908e+08\n",
       "         Conservador  1.243313e+08\n",
       "         Moderado     1.265814e+08\n",
       "promotor Agressivo    3.043271e+07\n",
       "         Conservador  2.839878e+07\n",
       "         Moderado     3.015804e+07"
      ]
     },
     "execution_count": 103,
     "metadata": {},
     "output_type": "execute_result"
    }
   ],
   "source": [
    "df_cadastro_investimento[[\"NPS\", \"Perfil\", \"total\"]].groupby([\"NPS\", \"Perfil\"]).sum()"
   ]
  }
 ],
 "metadata": {
  "kernelspec": {
   "display_name": "Python 3",
   "language": "python",
   "name": "python3"
  },
  "language_info": {
   "codemirror_mode": {
    "name": "ipython",
    "version": 3
   },
   "file_extension": ".py",
   "mimetype": "text/x-python",
   "name": "python",
   "nbconvert_exporter": "python",
   "pygments_lexer": "ipython3",
   "version": "3.11.4"
  }
 },
 "nbformat": 4,
 "nbformat_minor": 2
}
