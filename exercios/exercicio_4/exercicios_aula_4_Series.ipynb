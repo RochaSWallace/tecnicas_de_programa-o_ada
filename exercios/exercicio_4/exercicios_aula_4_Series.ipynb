{
 "cells": [
  {
   "cell_type": "code",
   "execution_count": 2,
   "metadata": {},
   "outputs": [],
   "source": [
    "import pandas as pd"
   ]
  },
  {
   "cell_type": "markdown",
   "metadata": {},
   "source": [
    "## Exercicio:\n",
    "\n",
    "1. Crie uma Serie com elementos A, B, C e com os indexes primeiro, segundo, terceiro\n",
    "2. Agora mostre o primeiro elemento da Serie anterior\n",
    "3. Baseado na Serie X = pd.Series([1,2,3,4,5],\n",
    "              index=['first','second','third','forth','fifth'])\n",
    "              **Transforme** em float\n",
    "4. Mude a ordem da mesma Serie utilizada no Exercicio 3\n",
    "5. Organize os valores da Serie X = pd.Series([4,2,5,1,3],\n",
    "              index=['forth','second','fifth','first','third'])\n",
    "6. Add 5 para todos os elementos da Serie X = pd.Series([1,2,3,4,5])\n",
    "7. Crie uma máscara para mostrar somente elementos negativos X = pd.Series([-1,2,0,-4,5,6,0,0,-9,10])\n",
    "8. Colete todos os elementos negativos X = pd.Series([-1,2,0,-4,5,6,0,0,-9,10])\n",
    "\n"
   ]
  },
  {
   "cell_type": "code",
   "execution_count": 3,
   "metadata": {},
   "outputs": [
    {
     "data": {
      "text/plain": [
       "primeiro    A\n",
       "segundo     B\n",
       "terceiro    C\n",
       "dtype: object"
      ]
     },
     "execution_count": 3,
     "metadata": {},
     "output_type": "execute_result"
    }
   ],
   "source": [
    "# 1. Crie uma Serie com elementos A, B, C e com os indexes primeiro, segundo, terceiro\n",
    "elementos = pd.Series(data=[\"A\", \"B\", \"C\"], index=[\"primeiro\", \"segundo\", \"terceiro\"])\n",
    "elementos"
   ]
  },
  {
   "cell_type": "code",
   "execution_count": 4,
   "metadata": {},
   "outputs": [
    {
     "data": {
      "text/plain": [
       "'A'"
      ]
     },
     "execution_count": 4,
     "metadata": {},
     "output_type": "execute_result"
    }
   ],
   "source": [
    "# 2. Agora mostre o primeiro elemento da Serie anterior\n",
    "elementos[\"primeiro\"]"
   ]
  },
  {
   "cell_type": "code",
   "execution_count": 5,
   "metadata": {},
   "outputs": [
    {
     "data": {
      "text/plain": [
       "first     1.0\n",
       "second    2.0\n",
       "third     3.0\n",
       "forth     4.0\n",
       "fifth     5.0\n",
       "dtype: float64"
      ]
     },
     "execution_count": 5,
     "metadata": {},
     "output_type": "execute_result"
    }
   ],
   "source": [
    "# 3. Baseado na Serie X = pd.Series([1,2,3,4,5],\n",
    "#              index=['first','second','third','forth','fifth'])\n",
    "#              **Transforme** em float\n",
    "X = pd.Series([1,2,3,4,5] ,index=['first','second','third','forth','fifth'], dtype=float)\n",
    "X"
   ]
  },
  {
   "cell_type": "code",
   "execution_count": 6,
   "metadata": {},
   "outputs": [
    {
     "data": {
      "text/plain": [
       "fifth     5.0\n",
       "forth     4.0\n",
       "third     3.0\n",
       "second    2.0\n",
       "first     1.0\n",
       "dtype: float64"
      ]
     },
     "execution_count": 6,
     "metadata": {},
     "output_type": "execute_result"
    }
   ],
   "source": [
    "# 4. Mude a ordem da mesma Serie utilizada no Exercicio 3\n",
    "X[-1::-1]\n"
   ]
  },
  {
   "cell_type": "code",
   "execution_count": 7,
   "metadata": {},
   "outputs": [
    {
     "data": {
      "text/plain": [
       "first     1\n",
       "second    2\n",
       "third     3\n",
       "forth     4\n",
       "fifth     5\n",
       "dtype: int64"
      ]
     },
     "execution_count": 7,
     "metadata": {},
     "output_type": "execute_result"
    }
   ],
   "source": [
    "#5. Organize os valores da Serie X = pd.Series([4,2,5,1,3],\n",
    "#              index=['forth','second','fifth','first','third'])\n",
    "X = pd.Series([4,2,5,1,3], index=['forth','second','fifth','first','third'])\n",
    "X.sort_values()"
   ]
  },
  {
   "cell_type": "code",
   "execution_count": 8,
   "metadata": {},
   "outputs": [
    {
     "data": {
      "text/plain": [
       "0     1\n",
       "1     2\n",
       "2     3\n",
       "3     4\n",
       "4     5\n",
       "0     6\n",
       "1     7\n",
       "2     8\n",
       "3     9\n",
       "4    10\n",
       "dtype: int64"
      ]
     },
     "execution_count": 8,
     "metadata": {},
     "output_type": "execute_result"
    }
   ],
   "source": [
    "# 6. Add 5 para todos os elementos da Serie X = pd.Series([1,2,3,4,5])\n",
    "X = pd.Series([1,2,3,4,5])\n",
    "pd.concat([X, pd.Series([6,7,8,9,10])])"
   ]
  },
  {
   "cell_type": "code",
   "execution_count": 11,
   "metadata": {},
   "outputs": [
    {
     "data": {
      "text/plain": [
       "0    -1\n",
       "1     2\n",
       "2     0\n",
       "3    -4\n",
       "4     5\n",
       "5     6\n",
       "6     0\n",
       "7     0\n",
       "8    -9\n",
       "9    10\n",
       "dtype: int64"
      ]
     },
     "execution_count": 11,
     "metadata": {},
     "output_type": "execute_result"
    }
   ],
   "source": [
    "# 7. Crie uma máscara para mostrar somente elementos negativos X = pd.Series([-1,2,0,-4,5,6,0,0,-9,10])\n",
    "X = pd.Series([-1,2,0,-4,5,6,0,0,-9,10])\n",
    "X"
   ]
  },
  {
   "cell_type": "code",
   "execution_count": 10,
   "metadata": {},
   "outputs": [
    {
     "data": {
      "text/plain": [
       "0   -1\n",
       "3   -4\n",
       "8   -9\n",
       "dtype: int64"
      ]
     },
     "execution_count": 10,
     "metadata": {},
     "output_type": "execute_result"
    }
   ],
   "source": [
    "# 8. Colete todos os elementos negativos X = pd.Series([-1,2,0,-4,5,6,0,0,-9,10])\n",
    "X = pd.Series([-1,2,0,-4,5,6,0,0,-9,10])\n",
    "X[X < 0]"
   ]
  }
 ],
 "metadata": {
  "kernelspec": {
   "display_name": "Python 3",
   "language": "python",
   "name": "python3"
  },
  "language_info": {
   "codemirror_mode": {
    "name": "ipython",
    "version": 3
   },
   "file_extension": ".py",
   "mimetype": "text/x-python",
   "name": "python",
   "nbconvert_exporter": "python",
   "pygments_lexer": "ipython3",
   "version": "3.11.4"
  }
 },
 "nbformat": 4,
 "nbformat_minor": 2
}
